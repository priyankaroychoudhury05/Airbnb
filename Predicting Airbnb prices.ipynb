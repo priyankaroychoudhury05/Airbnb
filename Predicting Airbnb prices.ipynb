{
 "cells": [
  {
   "cell_type": "markdown",
   "id": "c52ce5fc",
   "metadata": {},
   "source": [
    "# Building a supervised ML model to help my brother list his room on Airbnb NY"
   ]
  },
  {
   "cell_type": "markdown",
   "id": "e0429345",
   "metadata": {},
   "source": [
    "In my EDA I mentioned to you that my brother is pursuing his masters education from NYU. During the summer semester, he is planning to do an internship outside NY. I suggested to him that he should put up his room in NY on Airbnb to help himself out as he will stillbe paying rent to his landlord. He came back to me with the question - but how much do you think I should price it at? \n",
    "\n",
    "I decided to put my DS skills into use and build an ML model to predict how much he can expect his room to be priced at based on what we see about other listings."
   ]
  },
  {
   "cell_type": "markdown",
   "id": "4ca73060",
   "metadata": {},
   "source": [
    "![Photo by <a href=\"https://unsplash.com/@montanari?utm_source=unsplash&utm_medium=referral&utm_content=creditCopyText\">Joe Montanari</a> on <a href=\"https://unsplash.com/s/photos/airbnb-house-new-york?utm_source=unsplash&utm_medium=referral&utm_content=creditCopyText\">Unsplash</a>\n",
    "  ](joe-montanari-Jwwnb6pQ-FU-unsplash.jpg \"New York City\")"
   ]
  },
  {
   "cell_type": "markdown",
   "id": "b125563c",
   "metadata": {},
   "source": [
    "My brother is not alone when it comes to not knowing what should be the optimal price for their listing. I am sure Airbnb have their own model on their platform to help out their hosts but as neither my brother or I have ever listed a place on Airbnb we don't know what it looks like.\n",
    "\n",
    "But we do have some things to starte our research on. For instance, we did use Airbnb to rent places for travel so we know what the search process looks like for one side of the marketplace (i.e. renters). The photo below shows a screenshot from the Airbnb website when a potential renter is looking for a short-stay place to rent through Airbnb."
   ]
  },
  {
   "cell_type": "markdown",
   "id": "05b6ef8e",
   "metadata": {},
   "source": [
    "## Looking at the data we will be working with"
   ]
  },
  {
   "cell_type": "markdown",
   "id": "d8b19f53",
   "metadata": {},
   "source": [
    "We will be using the same dataset we used in the Airbnb EDA downloaded from Inside Airbnb.\n",
    "\n",
    "We'll begin by importing some libraries:    \n",
    "\n",
    "* `numpy` and `pandas` for data manipulation  \n",
    "* `seaborn` and `matplotlib` for data visualization"
   ]
  },
  {
   "cell_type": "code",
   "execution_count": 263,
   "id": "3a58702e",
   "metadata": {},
   "outputs": [],
   "source": [
    "import numpy as np\n",
    "import pandas as pd\n",
    "import matplotlib.pyplot as plt\n",
    "import seaborn as sns"
   ]
  },
  {
   "cell_type": "code",
   "execution_count": 264,
   "id": "7b2efb0d",
   "metadata": {},
   "outputs": [],
   "source": [
    "import warnings # to avoid warning messages\n",
    "warnings.filterwarnings(\"ignore\")"
   ]
  },
  {
   "cell_type": "code",
   "execution_count": 265,
   "id": "ef4266bc",
   "metadata": {},
   "outputs": [],
   "source": [
    "#Reading in the data\n",
    "listings_data = pd.read_csv('listings.csv.gz', compression='gzip', error_bad_lines=False)"
   ]
  },
  {
   "cell_type": "code",
   "execution_count": 266,
   "id": "7ba5260f",
   "metadata": {},
   "outputs": [
    {
     "name": "stdout",
     "output_type": "stream",
     "text": [
      "(39881, 75)\n",
      "Index(['id', 'listing_url', 'scrape_id', 'last_scraped', 'source', 'name',\n",
      "       'description', 'neighborhood_overview', 'picture_url', 'host_id',\n",
      "       'host_url', 'host_name', 'host_since', 'host_location', 'host_about',\n",
      "       'host_response_time', 'host_response_rate', 'host_acceptance_rate',\n",
      "       'host_is_superhost', 'host_thumbnail_url', 'host_picture_url',\n",
      "       'host_neighbourhood', 'host_listings_count',\n",
      "       'host_total_listings_count', 'host_verifications',\n",
      "       'host_has_profile_pic', 'host_identity_verified', 'neighbourhood',\n",
      "       'neighbourhood_cleansed', 'neighbourhood_group_cleansed', 'latitude',\n",
      "       'longitude', 'property_type', 'room_type', 'accommodates', 'bathrooms',\n",
      "       'bathrooms_text', 'bedrooms', 'beds', 'amenities', 'price',\n",
      "       'minimum_nights', 'maximum_nights', 'minimum_minimum_nights',\n",
      "       'maximum_minimum_nights', 'minimum_maximum_nights',\n",
      "       'maximum_maximum_nights', 'minimum_nights_avg_ntm',\n",
      "       'maximum_nights_avg_ntm', 'calendar_updated', 'has_availability',\n",
      "       'availability_30', 'availability_60', 'availability_90',\n",
      "       'availability_365', 'calendar_last_scraped', 'number_of_reviews',\n",
      "       'number_of_reviews_ltm', 'number_of_reviews_l30d', 'first_review',\n",
      "       'last_review', 'review_scores_rating', 'review_scores_accuracy',\n",
      "       'review_scores_cleanliness', 'review_scores_checkin',\n",
      "       'review_scores_communication', 'review_scores_location',\n",
      "       'review_scores_value', 'license', 'instant_bookable',\n",
      "       'calculated_host_listings_count',\n",
      "       'calculated_host_listings_count_entire_homes',\n",
      "       'calculated_host_listings_count_private_rooms',\n",
      "       'calculated_host_listings_count_shared_rooms', 'reviews_per_month'],\n",
      "      dtype='object')\n"
     ]
    }
   ],
   "source": [
    "print(listings_data.shape)\n",
    "print(listings_data.columns)"
   ]
  },
  {
   "cell_type": "markdown",
   "id": "1d620c15",
   "metadata": {},
   "source": [
    "Looking at the column names, there are 75 features for each listing. We are interested in features that are likely going to help us understand the price of the listing. To make the data set less cumbersome to work with, we’ll remove many of the columns in the original data set and assign it to a new variable.\n",
    "\n",
    "Here are some of the more important columns (features) we’ll want to work with, because these are all characteristics that a renter might use to assess which listing they will choose:\n",
    "\n",
    "`accommodates`: the number of guests the rental can accommodate  \n",
    "`bedrooms`: number of bedrooms included in the rental  \n",
    "`bathrooms_text`: number of bathrooms included in the rental  \n",
    "`beds`: number of beds included in the rental   \n",
    "`neighbourhood_group_cleansed`: neighbourhood group that the listing is located in  \n",
    "`price`: nightly price for the rental  \n",
    "`property_type`: type of property that the listing is\n",
    "`number_of_reviews`: number of reviews that previous guests have left  \n",
    "`host_identity_verified`:  whether the host identity is verified\n",
    "`host_is_superhost`:  whether the host is a superhost\n",
    "\n",
    "I have chosen the above based on the understanding of each feature from the data dictionary and the previous EDA exercise"
   ]
  },
  {
   "cell_type": "code",
   "execution_count": 267,
   "id": "0d487101",
   "metadata": {},
   "outputs": [],
   "source": [
    "listings_df = listings_data[\n",
    "    [\"accommodates\",\"bedrooms\",\"bathrooms_text\",\"beds\",\n",
    "    \"neighbourhood_group_cleansed\",\"price\", \n",
    "     \"property_type\",\"number_of_reviews\",\n",
    "    \"host_identity_verified\", \"host_is_superhost\"]\n",
    "]"
   ]
  },
  {
   "cell_type": "markdown",
   "id": "b8d071a0",
   "metadata": {},
   "source": [
    "## Data cleaning"
   ]
  },
  {
   "cell_type": "code",
   "execution_count": 268,
   "id": "cf76b68f",
   "metadata": {},
   "outputs": [
    {
     "data": {
      "text/html": [
       "<div>\n",
       "<style scoped>\n",
       "    .dataframe tbody tr th:only-of-type {\n",
       "        vertical-align: middle;\n",
       "    }\n",
       "\n",
       "    .dataframe tbody tr th {\n",
       "        vertical-align: top;\n",
       "    }\n",
       "\n",
       "    .dataframe thead th {\n",
       "        text-align: right;\n",
       "    }\n",
       "</style>\n",
       "<table border=\"1\" class=\"dataframe\">\n",
       "  <thead>\n",
       "    <tr style=\"text-align: right;\">\n",
       "      <th></th>\n",
       "      <th>accommodates</th>\n",
       "      <th>bedrooms</th>\n",
       "      <th>bathrooms_text</th>\n",
       "      <th>beds</th>\n",
       "      <th>neighbourhood_group_cleansed</th>\n",
       "      <th>price</th>\n",
       "      <th>property_type</th>\n",
       "      <th>number_of_reviews</th>\n",
       "      <th>host_identity_verified</th>\n",
       "      <th>host_is_superhost</th>\n",
       "    </tr>\n",
       "  </thead>\n",
       "  <tbody>\n",
       "    <tr>\n",
       "      <th>0</th>\n",
       "      <td>2</td>\n",
       "      <td>1.0</td>\n",
       "      <td>1 shared bath</td>\n",
       "      <td>1.0</td>\n",
       "      <td>Brooklyn</td>\n",
       "      <td>$299.00</td>\n",
       "      <td>Private room in rental unit</td>\n",
       "      <td>9</td>\n",
       "      <td>t</td>\n",
       "      <td>f</td>\n",
       "    </tr>\n",
       "    <tr>\n",
       "      <th>1</th>\n",
       "      <td>1</td>\n",
       "      <td>NaN</td>\n",
       "      <td>1 bath</td>\n",
       "      <td>1.0</td>\n",
       "      <td>Manhattan</td>\n",
       "      <td>$175.00</td>\n",
       "      <td>Entire rental unit</td>\n",
       "      <td>49</td>\n",
       "      <td>t</td>\n",
       "      <td>f</td>\n",
       "    </tr>\n",
       "    <tr>\n",
       "      <th>2</th>\n",
       "      <td>2</td>\n",
       "      <td>1.0</td>\n",
       "      <td>NaN</td>\n",
       "      <td>1.0</td>\n",
       "      <td>Brooklyn</td>\n",
       "      <td>$60.00</td>\n",
       "      <td>Private room in rental unit</td>\n",
       "      <td>50</td>\n",
       "      <td>t</td>\n",
       "      <td>t</td>\n",
       "    </tr>\n",
       "    <tr>\n",
       "      <th>3</th>\n",
       "      <td>16</td>\n",
       "      <td>5.0</td>\n",
       "      <td>2.5 baths</td>\n",
       "      <td>10.0</td>\n",
       "      <td>Queens</td>\n",
       "      <td>$425.00</td>\n",
       "      <td>Entire townhouse</td>\n",
       "      <td>13</td>\n",
       "      <td>t</td>\n",
       "      <td>f</td>\n",
       "    </tr>\n",
       "    <tr>\n",
       "      <th>4</th>\n",
       "      <td>4</td>\n",
       "      <td>2.0</td>\n",
       "      <td>1.5 baths</td>\n",
       "      <td>2.0</td>\n",
       "      <td>Brooklyn</td>\n",
       "      <td>$275.00</td>\n",
       "      <td>Entire rental unit</td>\n",
       "      <td>3</td>\n",
       "      <td>t</td>\n",
       "      <td>f</td>\n",
       "    </tr>\n",
       "  </tbody>\n",
       "</table>\n",
       "</div>"
      ],
      "text/plain": [
       "   accommodates  bedrooms bathrooms_text  beds neighbourhood_group_cleansed  \\\n",
       "0             2       1.0  1 shared bath   1.0                     Brooklyn   \n",
       "1             1       NaN         1 bath   1.0                    Manhattan   \n",
       "2             2       1.0            NaN   1.0                     Brooklyn   \n",
       "3            16       5.0      2.5 baths  10.0                       Queens   \n",
       "4             4       2.0      1.5 baths   2.0                     Brooklyn   \n",
       "\n",
       "     price                property_type  number_of_reviews  \\\n",
       "0  $299.00  Private room in rental unit                  9   \n",
       "1  $175.00           Entire rental unit                 49   \n",
       "2   $60.00  Private room in rental unit                 50   \n",
       "3  $425.00             Entire townhouse                 13   \n",
       "4  $275.00           Entire rental unit                  3   \n",
       "\n",
       "  host_identity_verified host_is_superhost  \n",
       "0                      t                 f  \n",
       "1                      t                 f  \n",
       "2                      t                 t  \n",
       "3                      t                 f  \n",
       "4                      t                 f  "
      ]
     },
     "execution_count": 268,
     "metadata": {},
     "output_type": "execute_result"
    }
   ],
   "source": [
    "listings_df.head()"
   ]
  },
  {
   "cell_type": "code",
   "execution_count": 269,
   "id": "95243a16",
   "metadata": {},
   "outputs": [
    {
     "data": {
      "text/plain": [
       "(39881, 10)"
      ]
     },
     "execution_count": 269,
     "metadata": {},
     "output_type": "execute_result"
    }
   ],
   "source": [
    "listings_df.shape"
   ]
  },
  {
   "cell_type": "code",
   "execution_count": 270,
   "id": "b1bd866a",
   "metadata": {},
   "outputs": [
    {
     "name": "stdout",
     "output_type": "stream",
     "text": [
      "<class 'pandas.core.frame.DataFrame'>\n",
      "RangeIndex: 39881 entries, 0 to 39880\n",
      "Data columns (total 10 columns):\n",
      " #   Column                        Non-Null Count  Dtype  \n",
      "---  ------                        --------------  -----  \n",
      " 0   accommodates                  39881 non-null  int64  \n",
      " 1   bedrooms                      36098 non-null  float64\n",
      " 2   bathrooms_text                39797 non-null  object \n",
      " 3   beds                          38997 non-null  float64\n",
      " 4   neighbourhood_group_cleansed  39881 non-null  object \n",
      " 5   price                         39881 non-null  object \n",
      " 6   property_type                 39881 non-null  object \n",
      " 7   number_of_reviews             39881 non-null  int64  \n",
      " 8   host_identity_verified        39831 non-null  object \n",
      " 9   host_is_superhost             39852 non-null  object \n",
      "dtypes: float64(2), int64(2), object(6)\n",
      "memory usage: 3.0+ MB\n"
     ]
    }
   ],
   "source": [
    " listings_df.info()"
   ]
  },
  {
   "cell_type": "markdown",
   "id": "60f64537",
   "metadata": {},
   "source": [
    "The first step in the cleaning is where I would like to duplicates across all columns."
   ]
  },
  {
   "cell_type": "code",
   "execution_count": 271,
   "id": "f1e6ea48",
   "metadata": {},
   "outputs": [
    {
     "data": {
      "text/plain": [
       "(39881, 10)"
      ]
     },
     "execution_count": 271,
     "metadata": {},
     "output_type": "execute_result"
    }
   ],
   "source": [
    "listings_df.drop_duplicates()\n",
    "listings_df.shape"
   ]
  },
  {
   "cell_type": "markdown",
   "id": "11bfa440",
   "metadata": {},
   "source": [
    "We didn't have any duplicates in the data. Our dataset at this point has 39,881 listings and 11 features."
   ]
  },
  {
   "cell_type": "markdown",
   "id": "3f70d879",
   "metadata": {},
   "source": [
    "### Exploring missing data"
   ]
  },
  {
   "cell_type": "markdown",
   "id": "5371f062",
   "metadata": {},
   "source": [
    "From the above, we see that there are some columns which have null values. We will investigate which null values we should be worried about and then decide what we want to do about it."
   ]
  },
  {
   "cell_type": "code",
   "execution_count": 272,
   "id": "f50b2d3c",
   "metadata": {},
   "outputs": [
    {
     "data": {
      "text/plain": [
       "bedrooms                        9.485720\n",
       "beds                            2.216594\n",
       "bathrooms_text                  0.210627\n",
       "host_identity_verified          0.125373\n",
       "host_is_superhost               0.072716\n",
       "accommodates                    0.000000\n",
       "neighbourhood_group_cleansed    0.000000\n",
       "price                           0.000000\n",
       "property_type                   0.000000\n",
       "number_of_reviews               0.000000\n",
       "dtype: float64"
      ]
     },
     "execution_count": 272,
     "metadata": {},
     "output_type": "execute_result"
    }
   ],
   "source": [
    "pd.options.display.max_rows = 400 #increases the viewing pane of my dataset\n",
    "\n",
    "# Shows me the list of features  with proportion of  null values sorted in descending order.\n",
    "(listings_df.isnull().sum()/listings_df.shape[0]*100).sort_values(ascending = False)"
   ]
  },
  {
   "cell_type": "markdown",
   "id": "7606135e",
   "metadata": {},
   "source": [
    "*Observations:*\n",
    "\n",
    "1. `bedrooms` have the most number of missing values i.e. around 10% of observations. I would not want to drop all these rows fromt the dataset. I will instead impute these values from another feature `accommodates` as I would expect these to be correlated. So we will take the average within each group of the accommodates coloumn.\n",
    "2. The other columns which have missing values are `beds`, `bathrooms_text`, `host_identity_verified` and `host_is_superhost`. These collectively account for around 3% of the observations so I am comfortable dropping these.\n",
    "\n",
    "I will start by looking at the accommodates feature deeper."
   ]
  },
  {
   "cell_type": "code",
   "execution_count": 273,
   "id": "82dce606",
   "metadata": {},
   "outputs": [
    {
     "data": {
      "text/plain": [
       "2     17735\n",
       "4      6427\n",
       "1      6128\n",
       "3      3999\n",
       "6      2080\n",
       "5      1725\n",
       "8       641\n",
       "7       437\n",
       "10      221\n",
       "16      157\n",
       "12      120\n",
       "9        87\n",
       "11       34\n",
       "15       33\n",
       "14       24\n",
       "0        17\n",
       "13       16\n",
       "Name: accommodates, dtype: int64"
      ]
     },
     "execution_count": 273,
     "metadata": {},
     "output_type": "execute_result"
    }
   ],
   "source": [
    "listings_df.accommodates.value_counts()"
   ]
  },
  {
   "cell_type": "markdown",
   "id": "57211361",
   "metadata": {},
   "source": [
    "It looks odd that there are 17 listings which a value of 0 in terms of number of people the listing can accommodate. I will see what the `bedrooms` column looks like for these rows."
   ]
  },
  {
   "cell_type": "code",
   "execution_count": 274,
   "id": "9d92a69a",
   "metadata": {},
   "outputs": [
    {
     "data": {
      "text/html": [
       "<div>\n",
       "<style scoped>\n",
       "    .dataframe tbody tr th:only-of-type {\n",
       "        vertical-align: middle;\n",
       "    }\n",
       "\n",
       "    .dataframe tbody tr th {\n",
       "        vertical-align: top;\n",
       "    }\n",
       "\n",
       "    .dataframe thead th {\n",
       "        text-align: right;\n",
       "    }\n",
       "</style>\n",
       "<table border=\"1\" class=\"dataframe\">\n",
       "  <thead>\n",
       "    <tr style=\"text-align: right;\">\n",
       "      <th></th>\n",
       "      <th>accommodates</th>\n",
       "      <th>bedrooms</th>\n",
       "      <th>bathrooms_text</th>\n",
       "      <th>beds</th>\n",
       "      <th>neighbourhood_group_cleansed</th>\n",
       "      <th>price</th>\n",
       "      <th>property_type</th>\n",
       "      <th>number_of_reviews</th>\n",
       "      <th>host_identity_verified</th>\n",
       "      <th>host_is_superhost</th>\n",
       "    </tr>\n",
       "  </thead>\n",
       "  <tbody>\n",
       "    <tr>\n",
       "      <th>22137</th>\n",
       "      <td>0</td>\n",
       "      <td>NaN</td>\n",
       "      <td>NaN</td>\n",
       "      <td>NaN</td>\n",
       "      <td>Manhattan</td>\n",
       "      <td>$0.00</td>\n",
       "      <td>Room in boutique hotel</td>\n",
       "      <td>0</td>\n",
       "      <td>t</td>\n",
       "      <td>NaN</td>\n",
       "    </tr>\n",
       "    <tr>\n",
       "      <th>22185</th>\n",
       "      <td>0</td>\n",
       "      <td>NaN</td>\n",
       "      <td>NaN</td>\n",
       "      <td>NaN</td>\n",
       "      <td>Manhattan</td>\n",
       "      <td>$0.00</td>\n",
       "      <td>Room in boutique hotel</td>\n",
       "      <td>0</td>\n",
       "      <td>t</td>\n",
       "      <td>NaN</td>\n",
       "    </tr>\n",
       "    <tr>\n",
       "      <th>22188</th>\n",
       "      <td>0</td>\n",
       "      <td>NaN</td>\n",
       "      <td>NaN</td>\n",
       "      <td>NaN</td>\n",
       "      <td>Manhattan</td>\n",
       "      <td>$0.00</td>\n",
       "      <td>Room in hotel</td>\n",
       "      <td>65</td>\n",
       "      <td>t</td>\n",
       "      <td>NaN</td>\n",
       "    </tr>\n",
       "    <tr>\n",
       "      <th>22196</th>\n",
       "      <td>0</td>\n",
       "      <td>NaN</td>\n",
       "      <td>NaN</td>\n",
       "      <td>NaN</td>\n",
       "      <td>Manhattan</td>\n",
       "      <td>$0.00</td>\n",
       "      <td>Room in boutique hotel</td>\n",
       "      <td>9</td>\n",
       "      <td>t</td>\n",
       "      <td>NaN</td>\n",
       "    </tr>\n",
       "    <tr>\n",
       "      <th>22271</th>\n",
       "      <td>0</td>\n",
       "      <td>NaN</td>\n",
       "      <td>NaN</td>\n",
       "      <td>NaN</td>\n",
       "      <td>Manhattan</td>\n",
       "      <td>$0.00</td>\n",
       "      <td>Room in hotel</td>\n",
       "      <td>19</td>\n",
       "      <td>t</td>\n",
       "      <td>NaN</td>\n",
       "    </tr>\n",
       "    <tr>\n",
       "      <th>22277</th>\n",
       "      <td>0</td>\n",
       "      <td>NaN</td>\n",
       "      <td>NaN</td>\n",
       "      <td>NaN</td>\n",
       "      <td>Manhattan</td>\n",
       "      <td>$0.00</td>\n",
       "      <td>Room in boutique hotel</td>\n",
       "      <td>42</td>\n",
       "      <td>t</td>\n",
       "      <td>NaN</td>\n",
       "    </tr>\n",
       "    <tr>\n",
       "      <th>22280</th>\n",
       "      <td>0</td>\n",
       "      <td>NaN</td>\n",
       "      <td>NaN</td>\n",
       "      <td>NaN</td>\n",
       "      <td>Manhattan</td>\n",
       "      <td>$0.00</td>\n",
       "      <td>Room in hotel</td>\n",
       "      <td>0</td>\n",
       "      <td>t</td>\n",
       "      <td>NaN</td>\n",
       "    </tr>\n",
       "    <tr>\n",
       "      <th>23080</th>\n",
       "      <td>0</td>\n",
       "      <td>NaN</td>\n",
       "      <td>NaN</td>\n",
       "      <td>NaN</td>\n",
       "      <td>Manhattan</td>\n",
       "      <td>$0.00</td>\n",
       "      <td>Room in boutique hotel</td>\n",
       "      <td>8</td>\n",
       "      <td>f</td>\n",
       "      <td>NaN</td>\n",
       "    </tr>\n",
       "    <tr>\n",
       "      <th>23802</th>\n",
       "      <td>0</td>\n",
       "      <td>NaN</td>\n",
       "      <td>NaN</td>\n",
       "      <td>NaN</td>\n",
       "      <td>Manhattan</td>\n",
       "      <td>$0.00</td>\n",
       "      <td>Room in hotel</td>\n",
       "      <td>0</td>\n",
       "      <td>t</td>\n",
       "      <td>NaN</td>\n",
       "    </tr>\n",
       "    <tr>\n",
       "      <th>23834</th>\n",
       "      <td>0</td>\n",
       "      <td>NaN</td>\n",
       "      <td>NaN</td>\n",
       "      <td>NaN</td>\n",
       "      <td>Manhattan</td>\n",
       "      <td>$0.00</td>\n",
       "      <td>Room in boutique hotel</td>\n",
       "      <td>161</td>\n",
       "      <td>t</td>\n",
       "      <td>NaN</td>\n",
       "    </tr>\n",
       "    <tr>\n",
       "      <th>23855</th>\n",
       "      <td>0</td>\n",
       "      <td>NaN</td>\n",
       "      <td>NaN</td>\n",
       "      <td>NaN</td>\n",
       "      <td>Brooklyn</td>\n",
       "      <td>$0.00</td>\n",
       "      <td>Room in boutique hotel</td>\n",
       "      <td>5</td>\n",
       "      <td>t</td>\n",
       "      <td>NaN</td>\n",
       "    </tr>\n",
       "    <tr>\n",
       "      <th>23988</th>\n",
       "      <td>0</td>\n",
       "      <td>NaN</td>\n",
       "      <td>NaN</td>\n",
       "      <td>NaN</td>\n",
       "      <td>Manhattan</td>\n",
       "      <td>$0.00</td>\n",
       "      <td>Room in boutique hotel</td>\n",
       "      <td>0</td>\n",
       "      <td>t</td>\n",
       "      <td>NaN</td>\n",
       "    </tr>\n",
       "    <tr>\n",
       "      <th>24129</th>\n",
       "      <td>0</td>\n",
       "      <td>NaN</td>\n",
       "      <td>NaN</td>\n",
       "      <td>NaN</td>\n",
       "      <td>Manhattan</td>\n",
       "      <td>$0.00</td>\n",
       "      <td>Room in boutique hotel</td>\n",
       "      <td>1</td>\n",
       "      <td>t</td>\n",
       "      <td>NaN</td>\n",
       "    </tr>\n",
       "    <tr>\n",
       "      <th>25001</th>\n",
       "      <td>0</td>\n",
       "      <td>NaN</td>\n",
       "      <td>NaN</td>\n",
       "      <td>NaN</td>\n",
       "      <td>Brooklyn</td>\n",
       "      <td>$0.00</td>\n",
       "      <td>Room in hotel</td>\n",
       "      <td>0</td>\n",
       "      <td>t</td>\n",
       "      <td>NaN</td>\n",
       "    </tr>\n",
       "    <tr>\n",
       "      <th>25200</th>\n",
       "      <td>0</td>\n",
       "      <td>NaN</td>\n",
       "      <td>NaN</td>\n",
       "      <td>NaN</td>\n",
       "      <td>Manhattan</td>\n",
       "      <td>$0.00</td>\n",
       "      <td>Room in boutique hotel</td>\n",
       "      <td>3</td>\n",
       "      <td>t</td>\n",
       "      <td>NaN</td>\n",
       "    </tr>\n",
       "    <tr>\n",
       "      <th>25234</th>\n",
       "      <td>0</td>\n",
       "      <td>NaN</td>\n",
       "      <td>NaN</td>\n",
       "      <td>NaN</td>\n",
       "      <td>Manhattan</td>\n",
       "      <td>$0.00</td>\n",
       "      <td>Room in boutique hotel</td>\n",
       "      <td>52</td>\n",
       "      <td>t</td>\n",
       "      <td>NaN</td>\n",
       "    </tr>\n",
       "    <tr>\n",
       "      <th>38925</th>\n",
       "      <td>0</td>\n",
       "      <td>NaN</td>\n",
       "      <td>NaN</td>\n",
       "      <td>NaN</td>\n",
       "      <td>Queens</td>\n",
       "      <td>$0.00</td>\n",
       "      <td>Room in boutique hotel</td>\n",
       "      <td>15</td>\n",
       "      <td>t</td>\n",
       "      <td>NaN</td>\n",
       "    </tr>\n",
       "  </tbody>\n",
       "</table>\n",
       "</div>"
      ],
      "text/plain": [
       "       accommodates  bedrooms bathrooms_text  beds  \\\n",
       "22137             0       NaN            NaN   NaN   \n",
       "22185             0       NaN            NaN   NaN   \n",
       "22188             0       NaN            NaN   NaN   \n",
       "22196             0       NaN            NaN   NaN   \n",
       "22271             0       NaN            NaN   NaN   \n",
       "22277             0       NaN            NaN   NaN   \n",
       "22280             0       NaN            NaN   NaN   \n",
       "23080             0       NaN            NaN   NaN   \n",
       "23802             0       NaN            NaN   NaN   \n",
       "23834             0       NaN            NaN   NaN   \n",
       "23855             0       NaN            NaN   NaN   \n",
       "23988             0       NaN            NaN   NaN   \n",
       "24129             0       NaN            NaN   NaN   \n",
       "25001             0       NaN            NaN   NaN   \n",
       "25200             0       NaN            NaN   NaN   \n",
       "25234             0       NaN            NaN   NaN   \n",
       "38925             0       NaN            NaN   NaN   \n",
       "\n",
       "      neighbourhood_group_cleansed  price           property_type  \\\n",
       "22137                    Manhattan  $0.00  Room in boutique hotel   \n",
       "22185                    Manhattan  $0.00  Room in boutique hotel   \n",
       "22188                    Manhattan  $0.00           Room in hotel   \n",
       "22196                    Manhattan  $0.00  Room in boutique hotel   \n",
       "22271                    Manhattan  $0.00           Room in hotel   \n",
       "22277                    Manhattan  $0.00  Room in boutique hotel   \n",
       "22280                    Manhattan  $0.00           Room in hotel   \n",
       "23080                    Manhattan  $0.00  Room in boutique hotel   \n",
       "23802                    Manhattan  $0.00           Room in hotel   \n",
       "23834                    Manhattan  $0.00  Room in boutique hotel   \n",
       "23855                     Brooklyn  $0.00  Room in boutique hotel   \n",
       "23988                    Manhattan  $0.00  Room in boutique hotel   \n",
       "24129                    Manhattan  $0.00  Room in boutique hotel   \n",
       "25001                     Brooklyn  $0.00           Room in hotel   \n",
       "25200                    Manhattan  $0.00  Room in boutique hotel   \n",
       "25234                    Manhattan  $0.00  Room in boutique hotel   \n",
       "38925                       Queens  $0.00  Room in boutique hotel   \n",
       "\n",
       "       number_of_reviews host_identity_verified host_is_superhost  \n",
       "22137                  0                      t               NaN  \n",
       "22185                  0                      t               NaN  \n",
       "22188                 65                      t               NaN  \n",
       "22196                  9                      t               NaN  \n",
       "22271                 19                      t               NaN  \n",
       "22277                 42                      t               NaN  \n",
       "22280                  0                      t               NaN  \n",
       "23080                  8                      f               NaN  \n",
       "23802                  0                      t               NaN  \n",
       "23834                161                      t               NaN  \n",
       "23855                  5                      t               NaN  \n",
       "23988                  0                      t               NaN  \n",
       "24129                  1                      t               NaN  \n",
       "25001                  0                      t               NaN  \n",
       "25200                  3                      t               NaN  \n",
       "25234                 52                      t               NaN  \n",
       "38925                 15                      t               NaN  "
      ]
     },
     "execution_count": 274,
     "metadata": {},
     "output_type": "execute_result"
    }
   ],
   "source": [
    "listings_df[listings_df['accommodates'] == 0]"
   ]
  },
  {
   "cell_type": "markdown",
   "id": "1864f324",
   "metadata": {},
   "source": [
    "These observations look a bit odd. The columns `bedrooms`, `bathrooms_text` and `beds` all have null values. The price also is 0 for each of these listings. Since these are only 17 observations, I wil drop them."
   ]
  },
  {
   "cell_type": "code",
   "execution_count": 275,
   "id": "74f910a6",
   "metadata": {},
   "outputs": [
    {
     "data": {
      "text/plain": [
       "(39864, 10)"
      ]
     },
     "execution_count": 275,
     "metadata": {},
     "output_type": "execute_result"
    }
   ],
   "source": [
    "listings_df.drop(listings_df[listings_df.accommodates == 0].index, inplace=True)\n",
    "listings_df.shape"
   ]
  },
  {
   "cell_type": "markdown",
   "id": "2286387c",
   "metadata": {},
   "source": [
    "Now we will impute the missing values in the `bedrooms` column with the average of each group in the `accommodates`column"
   ]
  },
  {
   "cell_type": "code",
   "execution_count": 276,
   "id": "2b01b35b",
   "metadata": {},
   "outputs": [],
   "source": [
    "listings_df[\"bedrooms\"] = listings_df['bedrooms'].fillna(listings_df.groupby('accommodates')['bedrooms'].transform('mean'))\n"
   ]
  },
  {
   "cell_type": "code",
   "execution_count": 277,
   "id": "21b1bbcf",
   "metadata": {},
   "outputs": [],
   "source": [
    "listings_df['bedrooms'] = round(listings_df['bedrooms'])"
   ]
  },
  {
   "cell_type": "code",
   "execution_count": 278,
   "id": "d4231ac1",
   "metadata": {},
   "outputs": [
    {
     "data": {
      "text/plain": [
       "0"
      ]
     },
     "execution_count": 278,
     "metadata": {},
     "output_type": "execute_result"
    }
   ],
   "source": [
    "listings_df['bedrooms'].isna().sum()"
   ]
  },
  {
   "cell_type": "code",
   "execution_count": 279,
   "id": "fb065b41",
   "metadata": {
    "scrolled": true
   },
   "outputs": [
    {
     "data": {
      "text/html": [
       "<div>\n",
       "<style scoped>\n",
       "    .dataframe tbody tr th:only-of-type {\n",
       "        vertical-align: middle;\n",
       "    }\n",
       "\n",
       "    .dataframe tbody tr th {\n",
       "        vertical-align: top;\n",
       "    }\n",
       "\n",
       "    .dataframe thead th {\n",
       "        text-align: right;\n",
       "    }\n",
       "</style>\n",
       "<table border=\"1\" class=\"dataframe\">\n",
       "  <thead>\n",
       "    <tr style=\"text-align: right;\">\n",
       "      <th></th>\n",
       "      <th>accommodates</th>\n",
       "      <th>bedrooms</th>\n",
       "      <th>bathrooms_text</th>\n",
       "      <th>beds</th>\n",
       "      <th>neighbourhood_group_cleansed</th>\n",
       "      <th>price</th>\n",
       "      <th>property_type</th>\n",
       "      <th>number_of_reviews</th>\n",
       "      <th>host_identity_verified</th>\n",
       "      <th>host_is_superhost</th>\n",
       "    </tr>\n",
       "  </thead>\n",
       "  <tbody>\n",
       "    <tr>\n",
       "      <th>0</th>\n",
       "      <td>2</td>\n",
       "      <td>1.0</td>\n",
       "      <td>1 shared bath</td>\n",
       "      <td>1.0</td>\n",
       "      <td>Brooklyn</td>\n",
       "      <td>$299.00</td>\n",
       "      <td>Private room in rental unit</td>\n",
       "      <td>9</td>\n",
       "      <td>t</td>\n",
       "      <td>f</td>\n",
       "    </tr>\n",
       "    <tr>\n",
       "      <th>1</th>\n",
       "      <td>1</td>\n",
       "      <td>1.0</td>\n",
       "      <td>1 bath</td>\n",
       "      <td>1.0</td>\n",
       "      <td>Manhattan</td>\n",
       "      <td>$175.00</td>\n",
       "      <td>Entire rental unit</td>\n",
       "      <td>49</td>\n",
       "      <td>t</td>\n",
       "      <td>f</td>\n",
       "    </tr>\n",
       "    <tr>\n",
       "      <th>2</th>\n",
       "      <td>16</td>\n",
       "      <td>5.0</td>\n",
       "      <td>2.5 baths</td>\n",
       "      <td>10.0</td>\n",
       "      <td>Queens</td>\n",
       "      <td>$425.00</td>\n",
       "      <td>Entire townhouse</td>\n",
       "      <td>13</td>\n",
       "      <td>t</td>\n",
       "      <td>f</td>\n",
       "    </tr>\n",
       "    <tr>\n",
       "      <th>3</th>\n",
       "      <td>4</td>\n",
       "      <td>2.0</td>\n",
       "      <td>1.5 baths</td>\n",
       "      <td>2.0</td>\n",
       "      <td>Brooklyn</td>\n",
       "      <td>$275.00</td>\n",
       "      <td>Entire rental unit</td>\n",
       "      <td>3</td>\n",
       "      <td>t</td>\n",
       "      <td>f</td>\n",
       "    </tr>\n",
       "    <tr>\n",
       "      <th>4</th>\n",
       "      <td>1</td>\n",
       "      <td>1.0</td>\n",
       "      <td>1 shared bath</td>\n",
       "      <td>1.0</td>\n",
       "      <td>Bronx</td>\n",
       "      <td>$60.00</td>\n",
       "      <td>Private room in rental unit</td>\n",
       "      <td>0</td>\n",
       "      <td>f</td>\n",
       "      <td>f</td>\n",
       "    </tr>\n",
       "    <tr>\n",
       "      <th>...</th>\n",
       "      <td>...</td>\n",
       "      <td>...</td>\n",
       "      <td>...</td>\n",
       "      <td>...</td>\n",
       "      <td>...</td>\n",
       "      <td>...</td>\n",
       "      <td>...</td>\n",
       "      <td>...</td>\n",
       "      <td>...</td>\n",
       "      <td>...</td>\n",
       "    </tr>\n",
       "    <tr>\n",
       "      <th>38902</th>\n",
       "      <td>1</td>\n",
       "      <td>1.0</td>\n",
       "      <td>1 shared bath</td>\n",
       "      <td>1.0</td>\n",
       "      <td>Manhattan</td>\n",
       "      <td>$62.00</td>\n",
       "      <td>Private room in rental unit</td>\n",
       "      <td>0</td>\n",
       "      <td>t</td>\n",
       "      <td>f</td>\n",
       "    </tr>\n",
       "    <tr>\n",
       "      <th>38903</th>\n",
       "      <td>2</td>\n",
       "      <td>1.0</td>\n",
       "      <td>1 bath</td>\n",
       "      <td>1.0</td>\n",
       "      <td>Queens</td>\n",
       "      <td>$157.00</td>\n",
       "      <td>Entire home</td>\n",
       "      <td>33</td>\n",
       "      <td>t</td>\n",
       "      <td>f</td>\n",
       "    </tr>\n",
       "    <tr>\n",
       "      <th>38904</th>\n",
       "      <td>4</td>\n",
       "      <td>1.0</td>\n",
       "      <td>1 bath</td>\n",
       "      <td>2.0</td>\n",
       "      <td>Manhattan</td>\n",
       "      <td>$108.00</td>\n",
       "      <td>Entire rental unit</td>\n",
       "      <td>52</td>\n",
       "      <td>t</td>\n",
       "      <td>t</td>\n",
       "    </tr>\n",
       "    <tr>\n",
       "      <th>38905</th>\n",
       "      <td>2</td>\n",
       "      <td>1.0</td>\n",
       "      <td>1 bath</td>\n",
       "      <td>2.0</td>\n",
       "      <td>Queens</td>\n",
       "      <td>$140.00</td>\n",
       "      <td>Entire rental unit</td>\n",
       "      <td>11</td>\n",
       "      <td>t</td>\n",
       "      <td>f</td>\n",
       "    </tr>\n",
       "    <tr>\n",
       "      <th>38906</th>\n",
       "      <td>4</td>\n",
       "      <td>2.0</td>\n",
       "      <td>2 baths</td>\n",
       "      <td>2.0</td>\n",
       "      <td>Brooklyn</td>\n",
       "      <td>$400.00</td>\n",
       "      <td>Entire rental unit</td>\n",
       "      <td>0</td>\n",
       "      <td>t</td>\n",
       "      <td>f</td>\n",
       "    </tr>\n",
       "  </tbody>\n",
       "</table>\n",
       "<p>38907 rows × 10 columns</p>\n",
       "</div>"
      ],
      "text/plain": [
       "       accommodates  bedrooms bathrooms_text  beds  \\\n",
       "0                 2       1.0  1 shared bath   1.0   \n",
       "1                 1       1.0         1 bath   1.0   \n",
       "2                16       5.0      2.5 baths  10.0   \n",
       "3                 4       2.0      1.5 baths   2.0   \n",
       "4                 1       1.0  1 shared bath   1.0   \n",
       "...             ...       ...            ...   ...   \n",
       "38902             1       1.0  1 shared bath   1.0   \n",
       "38903             2       1.0         1 bath   1.0   \n",
       "38904             4       1.0         1 bath   2.0   \n",
       "38905             2       1.0         1 bath   2.0   \n",
       "38906             4       2.0        2 baths   2.0   \n",
       "\n",
       "      neighbourhood_group_cleansed    price                property_type  \\\n",
       "0                         Brooklyn  $299.00  Private room in rental unit   \n",
       "1                        Manhattan  $175.00           Entire rental unit   \n",
       "2                           Queens  $425.00             Entire townhouse   \n",
       "3                         Brooklyn  $275.00           Entire rental unit   \n",
       "4                            Bronx   $60.00  Private room in rental unit   \n",
       "...                            ...      ...                          ...   \n",
       "38902                    Manhattan   $62.00  Private room in rental unit   \n",
       "38903                       Queens  $157.00                  Entire home   \n",
       "38904                    Manhattan  $108.00           Entire rental unit   \n",
       "38905                       Queens  $140.00           Entire rental unit   \n",
       "38906                     Brooklyn  $400.00           Entire rental unit   \n",
       "\n",
       "       number_of_reviews host_identity_verified host_is_superhost  \n",
       "0                      9                      t                 f  \n",
       "1                     49                      t                 f  \n",
       "2                     13                      t                 f  \n",
       "3                      3                      t                 f  \n",
       "4                      0                      f                 f  \n",
       "...                  ...                    ...               ...  \n",
       "38902                  0                      t                 f  \n",
       "38903                 33                      t                 f  \n",
       "38904                 52                      t                 t  \n",
       "38905                 11                      t                 f  \n",
       "38906                  0                      t                 f  \n",
       "\n",
       "[38907 rows x 10 columns]"
      ]
     },
     "execution_count": 279,
     "metadata": {},
     "output_type": "execute_result"
    }
   ],
   "source": [
    "#dropping all other null values and resetting index\n",
    "listings_df = listings_df.dropna()\n",
    "listings_df.reset_index(drop = True)"
   ]
  },
  {
   "cell_type": "code",
   "execution_count": 280,
   "id": "1562b3dd",
   "metadata": {},
   "outputs": [
    {
     "name": "stdout",
     "output_type": "stream",
     "text": [
      "<class 'pandas.core.frame.DataFrame'>\n",
      "Int64Index: 38907 entries, 0 to 39879\n",
      "Data columns (total 10 columns):\n",
      " #   Column                        Non-Null Count  Dtype  \n",
      "---  ------                        --------------  -----  \n",
      " 0   accommodates                  38907 non-null  int64  \n",
      " 1   bedrooms                      38907 non-null  float64\n",
      " 2   bathrooms_text                38907 non-null  object \n",
      " 3   beds                          38907 non-null  float64\n",
      " 4   neighbourhood_group_cleansed  38907 non-null  object \n",
      " 5   price                         38907 non-null  object \n",
      " 6   property_type                 38907 non-null  object \n",
      " 7   number_of_reviews             38907 non-null  int64  \n",
      " 8   host_identity_verified        38907 non-null  object \n",
      " 9   host_is_superhost             38907 non-null  object \n",
      "dtypes: float64(2), int64(2), object(6)\n",
      "memory usage: 3.3+ MB\n"
     ]
    }
   ],
   "source": [
    "listings_df.info()"
   ]
  },
  {
   "cell_type": "markdown",
   "id": "66c9e1d0",
   "metadata": {},
   "source": [
    "At this point, we have no null values. We have a total of 38,907 listings."
   ]
  },
  {
   "cell_type": "markdown",
   "id": "df2d3b1e",
   "metadata": {},
   "source": [
    "### Cleaning string values"
   ]
  },
  {
   "cell_type": "markdown",
   "id": "82bd47dc",
   "metadata": {},
   "source": [
    "The `bathrooms_text` column contains string values about the number of bathrooms in each listing. This is important information but string values won't let us work on them approporiately. So I will clean these values to extract the relevant information."
   ]
  },
  {
   "cell_type": "code",
   "execution_count": 281,
   "id": "e3226b72",
   "metadata": {},
   "outputs": [],
   "source": [
    "listings_df['bathrooms'] = listings_df[\"bathrooms_text\"].str.extract('(\\d*\\.\\d+|\\d+)', expand=False).astype(float)"
   ]
  },
  {
   "cell_type": "code",
   "execution_count": 282,
   "id": "cb5baec2",
   "metadata": {},
   "outputs": [
    {
     "data": {
      "text/html": [
       "<div>\n",
       "<style scoped>\n",
       "    .dataframe tbody tr th:only-of-type {\n",
       "        vertical-align: middle;\n",
       "    }\n",
       "\n",
       "    .dataframe tbody tr th {\n",
       "        vertical-align: top;\n",
       "    }\n",
       "\n",
       "    .dataframe thead th {\n",
       "        text-align: right;\n",
       "    }\n",
       "</style>\n",
       "<table border=\"1\" class=\"dataframe\">\n",
       "  <thead>\n",
       "    <tr style=\"text-align: right;\">\n",
       "      <th></th>\n",
       "      <th>accommodates</th>\n",
       "      <th>bedrooms</th>\n",
       "      <th>bathrooms_text</th>\n",
       "      <th>beds</th>\n",
       "      <th>neighbourhood_group_cleansed</th>\n",
       "      <th>price</th>\n",
       "      <th>property_type</th>\n",
       "      <th>number_of_reviews</th>\n",
       "      <th>host_identity_verified</th>\n",
       "      <th>host_is_superhost</th>\n",
       "      <th>bathrooms</th>\n",
       "    </tr>\n",
       "  </thead>\n",
       "  <tbody>\n",
       "    <tr>\n",
       "      <th>0</th>\n",
       "      <td>2</td>\n",
       "      <td>1.0</td>\n",
       "      <td>1 shared bath</td>\n",
       "      <td>1.0</td>\n",
       "      <td>Brooklyn</td>\n",
       "      <td>$299.00</td>\n",
       "      <td>Private room in rental unit</td>\n",
       "      <td>9</td>\n",
       "      <td>t</td>\n",
       "      <td>f</td>\n",
       "      <td>1.0</td>\n",
       "    </tr>\n",
       "    <tr>\n",
       "      <th>1</th>\n",
       "      <td>1</td>\n",
       "      <td>1.0</td>\n",
       "      <td>1 bath</td>\n",
       "      <td>1.0</td>\n",
       "      <td>Manhattan</td>\n",
       "      <td>$175.00</td>\n",
       "      <td>Entire rental unit</td>\n",
       "      <td>49</td>\n",
       "      <td>t</td>\n",
       "      <td>f</td>\n",
       "      <td>1.0</td>\n",
       "    </tr>\n",
       "    <tr>\n",
       "      <th>3</th>\n",
       "      <td>16</td>\n",
       "      <td>5.0</td>\n",
       "      <td>2.5 baths</td>\n",
       "      <td>10.0</td>\n",
       "      <td>Queens</td>\n",
       "      <td>$425.00</td>\n",
       "      <td>Entire townhouse</td>\n",
       "      <td>13</td>\n",
       "      <td>t</td>\n",
       "      <td>f</td>\n",
       "      <td>2.5</td>\n",
       "    </tr>\n",
       "    <tr>\n",
       "      <th>4</th>\n",
       "      <td>4</td>\n",
       "      <td>2.0</td>\n",
       "      <td>1.5 baths</td>\n",
       "      <td>2.0</td>\n",
       "      <td>Brooklyn</td>\n",
       "      <td>$275.00</td>\n",
       "      <td>Entire rental unit</td>\n",
       "      <td>3</td>\n",
       "      <td>t</td>\n",
       "      <td>f</td>\n",
       "      <td>1.5</td>\n",
       "    </tr>\n",
       "    <tr>\n",
       "      <th>5</th>\n",
       "      <td>1</td>\n",
       "      <td>1.0</td>\n",
       "      <td>1 shared bath</td>\n",
       "      <td>1.0</td>\n",
       "      <td>Bronx</td>\n",
       "      <td>$60.00</td>\n",
       "      <td>Private room in rental unit</td>\n",
       "      <td>0</td>\n",
       "      <td>f</td>\n",
       "      <td>f</td>\n",
       "      <td>1.0</td>\n",
       "    </tr>\n",
       "  </tbody>\n",
       "</table>\n",
       "</div>"
      ],
      "text/plain": [
       "   accommodates  bedrooms bathrooms_text  beds neighbourhood_group_cleansed  \\\n",
       "0             2       1.0  1 shared bath   1.0                     Brooklyn   \n",
       "1             1       1.0         1 bath   1.0                    Manhattan   \n",
       "3            16       5.0      2.5 baths  10.0                       Queens   \n",
       "4             4       2.0      1.5 baths   2.0                     Brooklyn   \n",
       "5             1       1.0  1 shared bath   1.0                        Bronx   \n",
       "\n",
       "     price                property_type  number_of_reviews  \\\n",
       "0  $299.00  Private room in rental unit                  9   \n",
       "1  $175.00           Entire rental unit                 49   \n",
       "3  $425.00             Entire townhouse                 13   \n",
       "4  $275.00           Entire rental unit                  3   \n",
       "5   $60.00  Private room in rental unit                  0   \n",
       "\n",
       "  host_identity_verified host_is_superhost  bathrooms  \n",
       "0                      t                 f        1.0  \n",
       "1                      t                 f        1.0  \n",
       "3                      t                 f        2.5  \n",
       "4                      t                 f        1.5  \n",
       "5                      f                 f        1.0  "
      ]
     },
     "execution_count": 282,
     "metadata": {},
     "output_type": "execute_result"
    }
   ],
   "source": [
    "listings_df.head()"
   ]
  },
  {
   "cell_type": "markdown",
   "id": "723874ed",
   "metadata": {},
   "source": [
    "Next, we see that the `price` variable also is stored as string. We would expect this to be a numerical variable so we convert this into a float type"
   ]
  },
  {
   "cell_type": "code",
   "execution_count": 283,
   "id": "dee34b7d",
   "metadata": {},
   "outputs": [],
   "source": [
    "listings_df['price']= listings_df['price'].str.replace(\"$\",\"\")\n",
    "listings_df['price']= listings_df['price'].str.replace(\",\",\"\")\n",
    "listings_df['price']= listings_df['price'].astype(float)"
   ]
  },
  {
   "cell_type": "code",
   "execution_count": 284,
   "id": "b1953195",
   "metadata": {},
   "outputs": [
    {
     "data": {
      "text/plain": [
       "property_type                     \n",
       "Entire rental unit                    16578\n",
       "Private room in rental unit           10138\n",
       "Private room in home                   2072\n",
       "Entire condo                           1594\n",
       "Entire home                            1457\n",
       "Private room in townhouse              1043\n",
       "Entire loft                             724\n",
       "Entire townhouse                        652\n",
       "Room in hotel                           635\n",
       "Entire serviced apartment               597\n",
       "Private room in condo                   581\n",
       "Room in boutique hotel                  454\n",
       "Shared room in rental unit              410\n",
       "Entire guest suite                      386\n",
       "Private room in serviced apartment      294\n",
       "Private room in loft                    266\n",
       "Private room in guest suite             127\n",
       "Private room in casa particular          90\n",
       "Entire place                             72\n",
       "Entire guesthouse                        65\n",
       "Room in aparthotel                       62\n",
       "Private room in bed and breakfast        60\n",
       "Entire vacation home                     53\n",
       "Private room                             52\n",
       "Shared room in home                      44\n",
       "Private room in resort                   41\n",
       "Private room in hostel                   32\n",
       "Shared room in loft                      30\n",
       "Entire bungalow                          30\n",
       "Private room in guesthouse               30\n",
       "Room in serviced apartment               24\n",
       "Casa particular                          18\n",
       "Tiny home                                15\n",
       "Shared room in condo                     15\n",
       "Private room in vacation home            15\n",
       "Private room in villa                    13\n",
       "Boat                                     12\n",
       "Private room in bungalow                 11\n",
       "Entire cottage                           11\n",
       "Entire home/apt                           9\n",
       "Houseboat                                 8\n",
       "Floor                                     8\n",
       "Entire villa                              8\n",
       "Camper/RV                                 7\n",
       "Shared room in townhouse                  6\n",
       "Private room in earthen home              5\n",
       "Shared room in serviced apartment         4\n",
       "Shared room in bed and breakfast          4\n",
       "Shared room in hostel                     4\n",
       "Room in bed and breakfast                 4\n",
       "Private room in tiny home                 3\n",
       "Shared room in guesthouse                 2\n",
       "Shared room in vacation home              2\n",
       "Shared room in guest suite                2\n",
       "Barn                                      2\n",
       "Tower                                     2\n",
       "Private room in minsu                     2\n",
       "Private room in houseboat                 2\n",
       "Private room in dorm                      1\n",
       "Castle                                    1\n",
       "Tent                                      1\n",
       "Cave                                      1\n",
       "Entire bed and breakfast                  1\n",
       "Lighthouse                                1\n",
       "Private room in barn                      1\n",
       "Private room in camper/rv                 1\n",
       "Private room in cottage                   1\n",
       "Private room in train                     1\n",
       "Private room in farm stay                 1\n",
       "Private room in tent                      1\n",
       "Shared room in floor                      1\n",
       "Shared room in casa particular            1\n",
       "Shared room in bungalow                   1\n",
       "Private room in in-law                    1\n",
       "Shared room                               1\n",
       "Room in resort                            1\n",
       "Private room in religious building        1\n",
       "Private room in floor                     1\n",
       "dtype: int64"
      ]
     },
     "execution_count": 284,
     "metadata": {},
     "output_type": "execute_result"
    }
   ],
   "source": [
    "listings_df[[\"property_type\"]].value_counts()"
   ]
  },
  {
   "cell_type": "markdown",
   "id": "fe91f72e",
   "metadata": {},
   "source": [
    "Since there are quite a few ctaegories of property, we will simplify it by reducing the number of property types for our analysis. Looking at the Airbnb website, we see that one of the features that renters look is whether the listing offers the entire plaace, a private room or a shared room. So we will use these three categories."
   ]
  },
  {
   "cell_type": "code",
   "execution_count": 285,
   "id": "ae0b4f89",
   "metadata": {},
   "outputs": [],
   "source": [
    "listings_df[\"property_category\"] = None\n",
    "listings_df[\"property_category\"][listings_df[\"property_type\"].str.contains(\"Entire\")] = \"Entire_place\"\n",
    "listings_df[\"property_category\"][listings_df[\"property_type\"].str.contains('Private|Room')] = \"Private_room\"\n",
    "listings_df[\"property_category\"][listings_df[\"property_type\"].str.contains(\"Shared\")] = \"Shared_room\"\n",
    "listings_df[\"property_category\"]=listings_df[\"property_category\"].fillna(\"Others\")"
   ]
  },
  {
   "cell_type": "code",
   "execution_count": 286,
   "id": "4b943af5",
   "metadata": {},
   "outputs": [
    {
     "name": "stdout",
     "output_type": "stream",
     "text": [
      "<class 'pandas.core.frame.DataFrame'>\n",
      "Int64Index: 38907 entries, 0 to 39879\n",
      "Data columns (total 12 columns):\n",
      " #   Column                        Non-Null Count  Dtype  \n",
      "---  ------                        --------------  -----  \n",
      " 0   accommodates                  38907 non-null  int64  \n",
      " 1   bedrooms                      38907 non-null  float64\n",
      " 2   bathrooms_text                38907 non-null  object \n",
      " 3   beds                          38907 non-null  float64\n",
      " 4   neighbourhood_group_cleansed  38907 non-null  object \n",
      " 5   price                         38907 non-null  float64\n",
      " 6   property_type                 38907 non-null  object \n",
      " 7   number_of_reviews             38907 non-null  int64  \n",
      " 8   host_identity_verified        38907 non-null  object \n",
      " 9   host_is_superhost             38907 non-null  object \n",
      " 10  bathrooms                     38837 non-null  float64\n",
      " 11  property_category             38907 non-null  object \n",
      "dtypes: float64(4), int64(2), object(6)\n",
      "memory usage: 3.9+ MB\n"
     ]
    }
   ],
   "source": [
    "listings_df.info()"
   ]
  },
  {
   "cell_type": "code",
   "execution_count": 287,
   "id": "3d03d102",
   "metadata": {},
   "outputs": [
    {
     "data": {
      "text/plain": [
       "Entire_place    22237\n",
       "Private_room    16067\n",
       "Shared_room       527\n",
       "Others             76\n",
       "Name: property_category, dtype: int64"
      ]
     },
     "execution_count": 287,
     "metadata": {},
     "output_type": "execute_result"
    }
   ],
   "source": [
    "listings_df[\"property_category\"].value_counts()"
   ]
  },
  {
   "cell_type": "markdown",
   "id": "a5ef4ebd",
   "metadata": {},
   "source": [
    "Finally, we see that the the columns `host_identity_verified` and `host_is_superhost` are also stored as string values. We expect them to be boolean values and will one hot encode them to make them more useful for further analysis. We will also one hot encode the `property category` and `neighourhood_group_cleansed` columns."
   ]
  },
  {
   "cell_type": "code",
   "execution_count": 288,
   "id": "59139593",
   "metadata": {},
   "outputs": [],
   "source": [
    "listings_df[['host_identity_verified', 'host_is_superhost']] = (listings_df[['host_identity_verified', 'host_is_superhost']] == 'TRUE').astype(int)"
   ]
  },
  {
   "cell_type": "code",
   "execution_count": 289,
   "id": "98abcda6",
   "metadata": {},
   "outputs": [],
   "source": [
    "listings_df = pd.get_dummies(listings_df, columns = ['property_category','neighbourhood_group_cleansed'])"
   ]
  },
  {
   "cell_type": "code",
   "execution_count": 290,
   "id": "56a179fe",
   "metadata": {},
   "outputs": [
    {
     "name": "stdout",
     "output_type": "stream",
     "text": [
      "<class 'pandas.core.frame.DataFrame'>\n",
      "Int64Index: 38907 entries, 0 to 39879\n",
      "Data columns (total 17 columns):\n",
      " #   Column                                      Non-Null Count  Dtype  \n",
      "---  ------                                      --------------  -----  \n",
      " 0   accommodates                                38907 non-null  int64  \n",
      " 1   bedrooms                                    38907 non-null  float64\n",
      " 2   beds                                        38907 non-null  float64\n",
      " 3   price                                       38907 non-null  float64\n",
      " 4   number_of_reviews                           38907 non-null  int64  \n",
      " 5   host_identity_verified                      38907 non-null  int32  \n",
      " 6   host_is_superhost                           38907 non-null  int32  \n",
      " 7   bathrooms                                   38837 non-null  float64\n",
      " 8   property_category_Entire_place              38907 non-null  uint8  \n",
      " 9   property_category_Others                    38907 non-null  uint8  \n",
      " 10  property_category_Private_room              38907 non-null  uint8  \n",
      " 11  property_category_Shared_room               38907 non-null  uint8  \n",
      " 12  neighbourhood_group_cleansed_Bronx          38907 non-null  uint8  \n",
      " 13  neighbourhood_group_cleansed_Brooklyn       38907 non-null  uint8  \n",
      " 14  neighbourhood_group_cleansed_Manhattan      38907 non-null  uint8  \n",
      " 15  neighbourhood_group_cleansed_Queens         38907 non-null  uint8  \n",
      " 16  neighbourhood_group_cleansed_Staten Island  38907 non-null  uint8  \n",
      "dtypes: float64(4), int32(2), int64(2), uint8(9)\n",
      "memory usage: 2.7 MB\n"
     ]
    }
   ],
   "source": [
    "#dropping bathrooms_text  and property_type columns as we no longer need that\n",
    "listings_clean_df = listings_df.drop([\"bathrooms_text\", \"property_type\"], axis =1)\n",
    "\n",
    "listings_clean_df.info()"
   ]
  },
  {
   "cell_type": "code",
   "execution_count": 291,
   "id": "6805dfe9",
   "metadata": {},
   "outputs": [
    {
     "data": {
      "text/html": [
       "<div>\n",
       "<style scoped>\n",
       "    .dataframe tbody tr th:only-of-type {\n",
       "        vertical-align: middle;\n",
       "    }\n",
       "\n",
       "    .dataframe tbody tr th {\n",
       "        vertical-align: top;\n",
       "    }\n",
       "\n",
       "    .dataframe thead th {\n",
       "        text-align: right;\n",
       "    }\n",
       "</style>\n",
       "<table border=\"1\" class=\"dataframe\">\n",
       "  <thead>\n",
       "    <tr style=\"text-align: right;\">\n",
       "      <th></th>\n",
       "      <th>accommodates</th>\n",
       "      <th>bedrooms</th>\n",
       "      <th>beds</th>\n",
       "      <th>price</th>\n",
       "      <th>number_of_reviews</th>\n",
       "      <th>host_identity_verified</th>\n",
       "      <th>host_is_superhost</th>\n",
       "      <th>bathrooms</th>\n",
       "      <th>property_category_Entire_place</th>\n",
       "      <th>property_category_Others</th>\n",
       "      <th>property_category_Private_room</th>\n",
       "      <th>property_category_Shared_room</th>\n",
       "      <th>neighbourhood_group_cleansed_Bronx</th>\n",
       "      <th>neighbourhood_group_cleansed_Brooklyn</th>\n",
       "      <th>neighbourhood_group_cleansed_Manhattan</th>\n",
       "      <th>neighbourhood_group_cleansed_Queens</th>\n",
       "      <th>neighbourhood_group_cleansed_Staten Island</th>\n",
       "    </tr>\n",
       "  </thead>\n",
       "  <tbody>\n",
       "    <tr>\n",
       "      <th>0</th>\n",
       "      <td>2</td>\n",
       "      <td>1.0</td>\n",
       "      <td>1.0</td>\n",
       "      <td>299.0</td>\n",
       "      <td>9</td>\n",
       "      <td>0</td>\n",
       "      <td>0</td>\n",
       "      <td>1.0</td>\n",
       "      <td>0</td>\n",
       "      <td>0</td>\n",
       "      <td>1</td>\n",
       "      <td>0</td>\n",
       "      <td>0</td>\n",
       "      <td>1</td>\n",
       "      <td>0</td>\n",
       "      <td>0</td>\n",
       "      <td>0</td>\n",
       "    </tr>\n",
       "    <tr>\n",
       "      <th>1</th>\n",
       "      <td>1</td>\n",
       "      <td>1.0</td>\n",
       "      <td>1.0</td>\n",
       "      <td>175.0</td>\n",
       "      <td>49</td>\n",
       "      <td>0</td>\n",
       "      <td>0</td>\n",
       "      <td>1.0</td>\n",
       "      <td>1</td>\n",
       "      <td>0</td>\n",
       "      <td>0</td>\n",
       "      <td>0</td>\n",
       "      <td>0</td>\n",
       "      <td>0</td>\n",
       "      <td>1</td>\n",
       "      <td>0</td>\n",
       "      <td>0</td>\n",
       "    </tr>\n",
       "    <tr>\n",
       "      <th>2</th>\n",
       "      <td>16</td>\n",
       "      <td>5.0</td>\n",
       "      <td>10.0</td>\n",
       "      <td>425.0</td>\n",
       "      <td>13</td>\n",
       "      <td>0</td>\n",
       "      <td>0</td>\n",
       "      <td>2.5</td>\n",
       "      <td>1</td>\n",
       "      <td>0</td>\n",
       "      <td>0</td>\n",
       "      <td>0</td>\n",
       "      <td>0</td>\n",
       "      <td>0</td>\n",
       "      <td>0</td>\n",
       "      <td>1</td>\n",
       "      <td>0</td>\n",
       "    </tr>\n",
       "    <tr>\n",
       "      <th>3</th>\n",
       "      <td>4</td>\n",
       "      <td>2.0</td>\n",
       "      <td>2.0</td>\n",
       "      <td>275.0</td>\n",
       "      <td>3</td>\n",
       "      <td>0</td>\n",
       "      <td>0</td>\n",
       "      <td>1.5</td>\n",
       "      <td>1</td>\n",
       "      <td>0</td>\n",
       "      <td>0</td>\n",
       "      <td>0</td>\n",
       "      <td>0</td>\n",
       "      <td>1</td>\n",
       "      <td>0</td>\n",
       "      <td>0</td>\n",
       "      <td>0</td>\n",
       "    </tr>\n",
       "    <tr>\n",
       "      <th>4</th>\n",
       "      <td>1</td>\n",
       "      <td>1.0</td>\n",
       "      <td>1.0</td>\n",
       "      <td>60.0</td>\n",
       "      <td>0</td>\n",
       "      <td>0</td>\n",
       "      <td>0</td>\n",
       "      <td>1.0</td>\n",
       "      <td>0</td>\n",
       "      <td>0</td>\n",
       "      <td>1</td>\n",
       "      <td>0</td>\n",
       "      <td>1</td>\n",
       "      <td>0</td>\n",
       "      <td>0</td>\n",
       "      <td>0</td>\n",
       "      <td>0</td>\n",
       "    </tr>\n",
       "    <tr>\n",
       "      <th>...</th>\n",
       "      <td>...</td>\n",
       "      <td>...</td>\n",
       "      <td>...</td>\n",
       "      <td>...</td>\n",
       "      <td>...</td>\n",
       "      <td>...</td>\n",
       "      <td>...</td>\n",
       "      <td>...</td>\n",
       "      <td>...</td>\n",
       "      <td>...</td>\n",
       "      <td>...</td>\n",
       "      <td>...</td>\n",
       "      <td>...</td>\n",
       "      <td>...</td>\n",
       "      <td>...</td>\n",
       "      <td>...</td>\n",
       "      <td>...</td>\n",
       "    </tr>\n",
       "    <tr>\n",
       "      <th>38832</th>\n",
       "      <td>1</td>\n",
       "      <td>1.0</td>\n",
       "      <td>1.0</td>\n",
       "      <td>62.0</td>\n",
       "      <td>0</td>\n",
       "      <td>0</td>\n",
       "      <td>0</td>\n",
       "      <td>1.0</td>\n",
       "      <td>0</td>\n",
       "      <td>0</td>\n",
       "      <td>1</td>\n",
       "      <td>0</td>\n",
       "      <td>0</td>\n",
       "      <td>0</td>\n",
       "      <td>1</td>\n",
       "      <td>0</td>\n",
       "      <td>0</td>\n",
       "    </tr>\n",
       "    <tr>\n",
       "      <th>38833</th>\n",
       "      <td>2</td>\n",
       "      <td>1.0</td>\n",
       "      <td>1.0</td>\n",
       "      <td>157.0</td>\n",
       "      <td>33</td>\n",
       "      <td>0</td>\n",
       "      <td>0</td>\n",
       "      <td>1.0</td>\n",
       "      <td>1</td>\n",
       "      <td>0</td>\n",
       "      <td>0</td>\n",
       "      <td>0</td>\n",
       "      <td>0</td>\n",
       "      <td>0</td>\n",
       "      <td>0</td>\n",
       "      <td>1</td>\n",
       "      <td>0</td>\n",
       "    </tr>\n",
       "    <tr>\n",
       "      <th>38834</th>\n",
       "      <td>4</td>\n",
       "      <td>1.0</td>\n",
       "      <td>2.0</td>\n",
       "      <td>108.0</td>\n",
       "      <td>52</td>\n",
       "      <td>0</td>\n",
       "      <td>0</td>\n",
       "      <td>1.0</td>\n",
       "      <td>1</td>\n",
       "      <td>0</td>\n",
       "      <td>0</td>\n",
       "      <td>0</td>\n",
       "      <td>0</td>\n",
       "      <td>0</td>\n",
       "      <td>1</td>\n",
       "      <td>0</td>\n",
       "      <td>0</td>\n",
       "    </tr>\n",
       "    <tr>\n",
       "      <th>38835</th>\n",
       "      <td>2</td>\n",
       "      <td>1.0</td>\n",
       "      <td>2.0</td>\n",
       "      <td>140.0</td>\n",
       "      <td>11</td>\n",
       "      <td>0</td>\n",
       "      <td>0</td>\n",
       "      <td>1.0</td>\n",
       "      <td>1</td>\n",
       "      <td>0</td>\n",
       "      <td>0</td>\n",
       "      <td>0</td>\n",
       "      <td>0</td>\n",
       "      <td>0</td>\n",
       "      <td>0</td>\n",
       "      <td>1</td>\n",
       "      <td>0</td>\n",
       "    </tr>\n",
       "    <tr>\n",
       "      <th>38836</th>\n",
       "      <td>4</td>\n",
       "      <td>2.0</td>\n",
       "      <td>2.0</td>\n",
       "      <td>400.0</td>\n",
       "      <td>0</td>\n",
       "      <td>0</td>\n",
       "      <td>0</td>\n",
       "      <td>2.0</td>\n",
       "      <td>1</td>\n",
       "      <td>0</td>\n",
       "      <td>0</td>\n",
       "      <td>0</td>\n",
       "      <td>0</td>\n",
       "      <td>1</td>\n",
       "      <td>0</td>\n",
       "      <td>0</td>\n",
       "      <td>0</td>\n",
       "    </tr>\n",
       "  </tbody>\n",
       "</table>\n",
       "<p>38837 rows × 17 columns</p>\n",
       "</div>"
      ],
      "text/plain": [
       "       accommodates  bedrooms  beds  price  number_of_reviews  \\\n",
       "0                 2       1.0   1.0  299.0                  9   \n",
       "1                 1       1.0   1.0  175.0                 49   \n",
       "2                16       5.0  10.0  425.0                 13   \n",
       "3                 4       2.0   2.0  275.0                  3   \n",
       "4                 1       1.0   1.0   60.0                  0   \n",
       "...             ...       ...   ...    ...                ...   \n",
       "38832             1       1.0   1.0   62.0                  0   \n",
       "38833             2       1.0   1.0  157.0                 33   \n",
       "38834             4       1.0   2.0  108.0                 52   \n",
       "38835             2       1.0   2.0  140.0                 11   \n",
       "38836             4       2.0   2.0  400.0                  0   \n",
       "\n",
       "       host_identity_verified  host_is_superhost  bathrooms  \\\n",
       "0                           0                  0        1.0   \n",
       "1                           0                  0        1.0   \n",
       "2                           0                  0        2.5   \n",
       "3                           0                  0        1.5   \n",
       "4                           0                  0        1.0   \n",
       "...                       ...                ...        ...   \n",
       "38832                       0                  0        1.0   \n",
       "38833                       0                  0        1.0   \n",
       "38834                       0                  0        1.0   \n",
       "38835                       0                  0        1.0   \n",
       "38836                       0                  0        2.0   \n",
       "\n",
       "       property_category_Entire_place  property_category_Others  \\\n",
       "0                                   0                         0   \n",
       "1                                   1                         0   \n",
       "2                                   1                         0   \n",
       "3                                   1                         0   \n",
       "4                                   0                         0   \n",
       "...                               ...                       ...   \n",
       "38832                               0                         0   \n",
       "38833                               1                         0   \n",
       "38834                               1                         0   \n",
       "38835                               1                         0   \n",
       "38836                               1                         0   \n",
       "\n",
       "       property_category_Private_room  property_category_Shared_room  \\\n",
       "0                                   1                              0   \n",
       "1                                   0                              0   \n",
       "2                                   0                              0   \n",
       "3                                   0                              0   \n",
       "4                                   1                              0   \n",
       "...                               ...                            ...   \n",
       "38832                               1                              0   \n",
       "38833                               0                              0   \n",
       "38834                               0                              0   \n",
       "38835                               0                              0   \n",
       "38836                               0                              0   \n",
       "\n",
       "       neighbourhood_group_cleansed_Bronx  \\\n",
       "0                                       0   \n",
       "1                                       0   \n",
       "2                                       0   \n",
       "3                                       0   \n",
       "4                                       1   \n",
       "...                                   ...   \n",
       "38832                                   0   \n",
       "38833                                   0   \n",
       "38834                                   0   \n",
       "38835                                   0   \n",
       "38836                                   0   \n",
       "\n",
       "       neighbourhood_group_cleansed_Brooklyn  \\\n",
       "0                                          1   \n",
       "1                                          0   \n",
       "2                                          0   \n",
       "3                                          1   \n",
       "4                                          0   \n",
       "...                                      ...   \n",
       "38832                                      0   \n",
       "38833                                      0   \n",
       "38834                                      0   \n",
       "38835                                      0   \n",
       "38836                                      1   \n",
       "\n",
       "       neighbourhood_group_cleansed_Manhattan  \\\n",
       "0                                           0   \n",
       "1                                           1   \n",
       "2                                           0   \n",
       "3                                           0   \n",
       "4                                           0   \n",
       "...                                       ...   \n",
       "38832                                       1   \n",
       "38833                                       0   \n",
       "38834                                       1   \n",
       "38835                                       0   \n",
       "38836                                       0   \n",
       "\n",
       "       neighbourhood_group_cleansed_Queens  \\\n",
       "0                                        0   \n",
       "1                                        0   \n",
       "2                                        1   \n",
       "3                                        0   \n",
       "4                                        0   \n",
       "...                                    ...   \n",
       "38832                                    0   \n",
       "38833                                    1   \n",
       "38834                                    0   \n",
       "38835                                    1   \n",
       "38836                                    0   \n",
       "\n",
       "       neighbourhood_group_cleansed_Staten Island  \n",
       "0                                               0  \n",
       "1                                               0  \n",
       "2                                               0  \n",
       "3                                               0  \n",
       "4                                               0  \n",
       "...                                           ...  \n",
       "38832                                           0  \n",
       "38833                                           0  \n",
       "38834                                           0  \n",
       "38835                                           0  \n",
       "38836                                           0  \n",
       "\n",
       "[38837 rows x 17 columns]"
      ]
     },
     "execution_count": 291,
     "metadata": {},
     "output_type": "execute_result"
    }
   ],
   "source": [
    "#Removing the rows with missing values of `bathrooms` column\n",
    "listings_clean_df = listings_clean_df.dropna()\n",
    "listings_clean_df.reset_index(drop = True)"
   ]
  },
  {
   "cell_type": "code",
   "execution_count": 292,
   "id": "bb608116",
   "metadata": {
    "scrolled": true
   },
   "outputs": [
    {
     "data": {
      "text/html": [
       "<div>\n",
       "<style scoped>\n",
       "    .dataframe tbody tr th:only-of-type {\n",
       "        vertical-align: middle;\n",
       "    }\n",
       "\n",
       "    .dataframe tbody tr th {\n",
       "        vertical-align: top;\n",
       "    }\n",
       "\n",
       "    .dataframe thead th {\n",
       "        text-align: right;\n",
       "    }\n",
       "</style>\n",
       "<table border=\"1\" class=\"dataframe\">\n",
       "  <thead>\n",
       "    <tr style=\"text-align: right;\">\n",
       "      <th></th>\n",
       "      <th>accommodates</th>\n",
       "      <th>bedrooms</th>\n",
       "      <th>beds</th>\n",
       "      <th>price</th>\n",
       "      <th>number_of_reviews</th>\n",
       "      <th>host_identity_verified</th>\n",
       "      <th>host_is_superhost</th>\n",
       "      <th>bathrooms</th>\n",
       "      <th>property_category_Entire_place</th>\n",
       "      <th>property_category_Others</th>\n",
       "      <th>property_category_Private_room</th>\n",
       "      <th>property_category_Shared_room</th>\n",
       "      <th>neighbourhood_group_cleansed_Bronx</th>\n",
       "      <th>neighbourhood_group_cleansed_Brooklyn</th>\n",
       "      <th>neighbourhood_group_cleansed_Manhattan</th>\n",
       "      <th>neighbourhood_group_cleansed_Queens</th>\n",
       "      <th>neighbourhood_group_cleansed_Staten Island</th>\n",
       "    </tr>\n",
       "  </thead>\n",
       "  <tbody>\n",
       "    <tr>\n",
       "      <th>count</th>\n",
       "      <td>38837.000000</td>\n",
       "      <td>38837.000000</td>\n",
       "      <td>38837.000000</td>\n",
       "      <td>38837.000000</td>\n",
       "      <td>38837.000000</td>\n",
       "      <td>38837.0</td>\n",
       "      <td>38837.0</td>\n",
       "      <td>38837.000000</td>\n",
       "      <td>38837.000000</td>\n",
       "      <td>38837.000000</td>\n",
       "      <td>38837.000000</td>\n",
       "      <td>38837.000000</td>\n",
       "      <td>38837.000000</td>\n",
       "      <td>38837.000000</td>\n",
       "      <td>38837.000000</td>\n",
       "      <td>38837.000000</td>\n",
       "      <td>38837.000000</td>\n",
       "    </tr>\n",
       "    <tr>\n",
       "      <th>mean</th>\n",
       "      <td>2.946211</td>\n",
       "      <td>1.349821</td>\n",
       "      <td>1.642892</td>\n",
       "      <td>197.551183</td>\n",
       "      <td>27.013441</td>\n",
       "      <td>0.0</td>\n",
       "      <td>0.0</td>\n",
       "      <td>1.163671</td>\n",
       "      <td>0.571852</td>\n",
       "      <td>0.001931</td>\n",
       "      <td>0.412648</td>\n",
       "      <td>0.013570</td>\n",
       "      <td>0.038958</td>\n",
       "      <td>0.373021</td>\n",
       "      <td>0.421789</td>\n",
       "      <td>0.155007</td>\n",
       "      <td>0.011226</td>\n",
       "    </tr>\n",
       "    <tr>\n",
       "      <th>std</th>\n",
       "      <td>1.975625</td>\n",
       "      <td>0.715205</td>\n",
       "      <td>1.120027</td>\n",
       "      <td>354.482479</td>\n",
       "      <td>56.624887</td>\n",
       "      <td>0.0</td>\n",
       "      <td>0.0</td>\n",
       "      <td>0.445921</td>\n",
       "      <td>0.494817</td>\n",
       "      <td>0.043903</td>\n",
       "      <td>0.492317</td>\n",
       "      <td>0.115697</td>\n",
       "      <td>0.193497</td>\n",
       "      <td>0.483614</td>\n",
       "      <td>0.493851</td>\n",
       "      <td>0.361916</td>\n",
       "      <td>0.105360</td>\n",
       "    </tr>\n",
       "    <tr>\n",
       "      <th>min</th>\n",
       "      <td>1.000000</td>\n",
       "      <td>1.000000</td>\n",
       "      <td>1.000000</td>\n",
       "      <td>10.000000</td>\n",
       "      <td>0.000000</td>\n",
       "      <td>0.0</td>\n",
       "      <td>0.0</td>\n",
       "      <td>0.000000</td>\n",
       "      <td>0.000000</td>\n",
       "      <td>0.000000</td>\n",
       "      <td>0.000000</td>\n",
       "      <td>0.000000</td>\n",
       "      <td>0.000000</td>\n",
       "      <td>0.000000</td>\n",
       "      <td>0.000000</td>\n",
       "      <td>0.000000</td>\n",
       "      <td>0.000000</td>\n",
       "    </tr>\n",
       "    <tr>\n",
       "      <th>25%</th>\n",
       "      <td>2.000000</td>\n",
       "      <td>1.000000</td>\n",
       "      <td>1.000000</td>\n",
       "      <td>80.000000</td>\n",
       "      <td>1.000000</td>\n",
       "      <td>0.0</td>\n",
       "      <td>0.0</td>\n",
       "      <td>1.000000</td>\n",
       "      <td>0.000000</td>\n",
       "      <td>0.000000</td>\n",
       "      <td>0.000000</td>\n",
       "      <td>0.000000</td>\n",
       "      <td>0.000000</td>\n",
       "      <td>0.000000</td>\n",
       "      <td>0.000000</td>\n",
       "      <td>0.000000</td>\n",
       "      <td>0.000000</td>\n",
       "    </tr>\n",
       "    <tr>\n",
       "      <th>50%</th>\n",
       "      <td>2.000000</td>\n",
       "      <td>1.000000</td>\n",
       "      <td>1.000000</td>\n",
       "      <td>131.000000</td>\n",
       "      <td>5.000000</td>\n",
       "      <td>0.0</td>\n",
       "      <td>0.0</td>\n",
       "      <td>1.000000</td>\n",
       "      <td>1.000000</td>\n",
       "      <td>0.000000</td>\n",
       "      <td>0.000000</td>\n",
       "      <td>0.000000</td>\n",
       "      <td>0.000000</td>\n",
       "      <td>0.000000</td>\n",
       "      <td>0.000000</td>\n",
       "      <td>0.000000</td>\n",
       "      <td>0.000000</td>\n",
       "    </tr>\n",
       "    <tr>\n",
       "      <th>75%</th>\n",
       "      <td>4.000000</td>\n",
       "      <td>1.000000</td>\n",
       "      <td>2.000000</td>\n",
       "      <td>220.000000</td>\n",
       "      <td>26.000000</td>\n",
       "      <td>0.0</td>\n",
       "      <td>0.0</td>\n",
       "      <td>1.000000</td>\n",
       "      <td>1.000000</td>\n",
       "      <td>0.000000</td>\n",
       "      <td>1.000000</td>\n",
       "      <td>0.000000</td>\n",
       "      <td>0.000000</td>\n",
       "      <td>1.000000</td>\n",
       "      <td>1.000000</td>\n",
       "      <td>0.000000</td>\n",
       "      <td>0.000000</td>\n",
       "    </tr>\n",
       "    <tr>\n",
       "      <th>max</th>\n",
       "      <td>16.000000</td>\n",
       "      <td>13.000000</td>\n",
       "      <td>24.000000</td>\n",
       "      <td>16500.000000</td>\n",
       "      <td>1480.000000</td>\n",
       "      <td>0.0</td>\n",
       "      <td>0.0</td>\n",
       "      <td>9.500000</td>\n",
       "      <td>1.000000</td>\n",
       "      <td>1.000000</td>\n",
       "      <td>1.000000</td>\n",
       "      <td>1.000000</td>\n",
       "      <td>1.000000</td>\n",
       "      <td>1.000000</td>\n",
       "      <td>1.000000</td>\n",
       "      <td>1.000000</td>\n",
       "      <td>1.000000</td>\n",
       "    </tr>\n",
       "  </tbody>\n",
       "</table>\n",
       "</div>"
      ],
      "text/plain": [
       "       accommodates      bedrooms          beds         price  \\\n",
       "count  38837.000000  38837.000000  38837.000000  38837.000000   \n",
       "mean       2.946211      1.349821      1.642892    197.551183   \n",
       "std        1.975625      0.715205      1.120027    354.482479   \n",
       "min        1.000000      1.000000      1.000000     10.000000   \n",
       "25%        2.000000      1.000000      1.000000     80.000000   \n",
       "50%        2.000000      1.000000      1.000000    131.000000   \n",
       "75%        4.000000      1.000000      2.000000    220.000000   \n",
       "max       16.000000     13.000000     24.000000  16500.000000   \n",
       "\n",
       "       number_of_reviews  host_identity_verified  host_is_superhost  \\\n",
       "count       38837.000000                 38837.0            38837.0   \n",
       "mean           27.013441                     0.0                0.0   \n",
       "std            56.624887                     0.0                0.0   \n",
       "min             0.000000                     0.0                0.0   \n",
       "25%             1.000000                     0.0                0.0   \n",
       "50%             5.000000                     0.0                0.0   \n",
       "75%            26.000000                     0.0                0.0   \n",
       "max          1480.000000                     0.0                0.0   \n",
       "\n",
       "          bathrooms  property_category_Entire_place  property_category_Others  \\\n",
       "count  38837.000000                    38837.000000              38837.000000   \n",
       "mean       1.163671                        0.571852                  0.001931   \n",
       "std        0.445921                        0.494817                  0.043903   \n",
       "min        0.000000                        0.000000                  0.000000   \n",
       "25%        1.000000                        0.000000                  0.000000   \n",
       "50%        1.000000                        1.000000                  0.000000   \n",
       "75%        1.000000                        1.000000                  0.000000   \n",
       "max        9.500000                        1.000000                  1.000000   \n",
       "\n",
       "       property_category_Private_room  property_category_Shared_room  \\\n",
       "count                    38837.000000                   38837.000000   \n",
       "mean                         0.412648                       0.013570   \n",
       "std                          0.492317                       0.115697   \n",
       "min                          0.000000                       0.000000   \n",
       "25%                          0.000000                       0.000000   \n",
       "50%                          0.000000                       0.000000   \n",
       "75%                          1.000000                       0.000000   \n",
       "max                          1.000000                       1.000000   \n",
       "\n",
       "       neighbourhood_group_cleansed_Bronx  \\\n",
       "count                        38837.000000   \n",
       "mean                             0.038958   \n",
       "std                              0.193497   \n",
       "min                              0.000000   \n",
       "25%                              0.000000   \n",
       "50%                              0.000000   \n",
       "75%                              0.000000   \n",
       "max                              1.000000   \n",
       "\n",
       "       neighbourhood_group_cleansed_Brooklyn  \\\n",
       "count                           38837.000000   \n",
       "mean                                0.373021   \n",
       "std                                 0.483614   \n",
       "min                                 0.000000   \n",
       "25%                                 0.000000   \n",
       "50%                                 0.000000   \n",
       "75%                                 1.000000   \n",
       "max                                 1.000000   \n",
       "\n",
       "       neighbourhood_group_cleansed_Manhattan  \\\n",
       "count                            38837.000000   \n",
       "mean                                 0.421789   \n",
       "std                                  0.493851   \n",
       "min                                  0.000000   \n",
       "25%                                  0.000000   \n",
       "50%                                  0.000000   \n",
       "75%                                  1.000000   \n",
       "max                                  1.000000   \n",
       "\n",
       "       neighbourhood_group_cleansed_Queens  \\\n",
       "count                         38837.000000   \n",
       "mean                              0.155007   \n",
       "std                               0.361916   \n",
       "min                               0.000000   \n",
       "25%                               0.000000   \n",
       "50%                               0.000000   \n",
       "75%                               0.000000   \n",
       "max                               1.000000   \n",
       "\n",
       "       neighbourhood_group_cleansed_Staten Island  \n",
       "count                                38837.000000  \n",
       "mean                                     0.011226  \n",
       "std                                      0.105360  \n",
       "min                                      0.000000  \n",
       "25%                                      0.000000  \n",
       "50%                                      0.000000  \n",
       "75%                                      0.000000  \n",
       "max                                      1.000000  "
      ]
     },
     "execution_count": 292,
     "metadata": {},
     "output_type": "execute_result"
    }
   ],
   "source": [
    "listings_clean_df.describe()"
   ]
  },
  {
   "cell_type": "markdown",
   "id": "df795a89",
   "metadata": {},
   "source": [
    "So at the end of our cleaning, we have 38,837 listings in our dataset."
   ]
  },
  {
   "cell_type": "markdown",
   "id": "b388d8f0",
   "metadata": {},
   "source": [
    "## Visualising our data"
   ]
  },
  {
   "cell_type": "markdown",
   "id": "6005d8ce",
   "metadata": {},
   "source": [
    "We will first look at the price variable."
   ]
  },
  {
   "cell_type": "code",
   "execution_count": 293,
   "id": "f53ad5f7",
   "metadata": {},
   "outputs": [
    {
     "data": {
      "text/plain": [
       "count    38837.000000\n",
       "mean       197.551183\n",
       "std        354.482479\n",
       "min         10.000000\n",
       "25%         80.000000\n",
       "50%        131.000000\n",
       "75%        220.000000\n",
       "max      16500.000000\n",
       "Name: price, dtype: float64"
      ]
     },
     "execution_count": 293,
     "metadata": {},
     "output_type": "execute_result"
    }
   ],
   "source": [
    "listings_clean_df.price.describe()"
   ]
  },
  {
   "cell_type": "markdown",
   "id": "fce72b1a",
   "metadata": {},
   "source": [
    "What immediately sticks out for me is the range of the price variable. I will visualise it in a boxplot to show this better.\n",
    "\n",
    "A boxplot is a graphical and standardised way to display the distribution of data based on five key numbers- minimum, 1st Quartile (25th percentile),median (2nd Quartile/ 50th Percentile),3rd Quartile (75th percentile),maximum.\n",
    "The minimum and maximum values are defined as Q1–1.5 * IQR and Q3 + 1.5 * IQR respectively(where IQR = Interquartire range). Any points that fall outside of these limits are referred to as outliers."
   ]
  },
  {
   "cell_type": "code",
   "execution_count": 294,
   "id": "1a05c103",
   "metadata": {
    "scrolled": true
   },
   "outputs": [
    {
     "data": {
      "text/plain": [
       "<AxesSubplot: xlabel='price'>"
      ]
     },
     "execution_count": 294,
     "metadata": {},
     "output_type": "execute_result"
    },
    {
     "data": {
      "image/png": "[encoded data removed]",
      "text/plain": [
       "<Figure size 640x480 with 1 Axes>"
      ]
     },
     "metadata": {},
     "output_type": "display_data"
    }
   ],
   "source": [
    "sns.boxplot(x=listings_clean_df['price'], width = 0.8)"
   ]
  },
  {
   "cell_type": "code",
   "execution_count": 295,
   "id": "f5c96093",
   "metadata": {},
   "outputs": [
    {
     "data": {
      "image/png": "[encoded data removed]",
      "text/plain": [
       "<Figure size 640x480 with 1 Axes>"
      ]
     },
     "metadata": {},
     "output_type": "display_data"
    }
   ],
   "source": [
    "# Plotting the prices of listings on a histogram\n",
    "\n",
    "p = sns.histplot( data = listings_clean_df, x = \"price\", color = \"red\")\n",
    "\n",
    "p.set (xlabel = \"Price of listing ($)\", ylabel = \" count of listings\")\n",
    "\n",
    "plt.show()"
   ]
  },
  {
   "cell_type": "markdown",
   "id": "1382073e",
   "metadata": {},
   "source": [
    "The charts don't look very pretty but it does show that we have a lot of outliers in our pricing data.So our pricing data is highly skewed on the right. Dealing with outliers needs some judgement. Outliers often are portrayed as inaccurate and inappropriate information that needs to be removed to obtain cleaned data. However, keeping these data points can have its merits.Outliers can be legitimate anomalies that are important for capturing information on the variable or topic of interest.\n",
    "\n",
    "In this dataset, there is some possibility that the extremely high prices are a consequence of error on the part of the host while listing (such as adding an extra unintended 0) or it can be genuine reflecting the large avriability in prices in NY Airbnb listings. I will avoid directly dropping all outliers as it is not unrealistic to see such igh prices in some areas of NY such as Manhattan."
   ]
  },
  {
   "cell_type": "markdown",
   "id": "4197ff44",
   "metadata": {},
   "source": [
    "However, our price data is not normaly distributed. Since price is going to be our target (or outcome) varibale later on in our model, we would want it to be normally distributed for implementing models such as Linear regression. One way is to log transform the price variable. We do this below and replot the data."
   ]
  },
  {
   "cell_type": "code",
   "execution_count": 296,
   "id": "b8bb4ea0",
   "metadata": {
    "scrolled": false
   },
   "outputs": [
    {
     "data": {
      "image/png": "[encoded data removed]",
      "text/plain": [
       "<Figure size 640x480 with 1 Axes>"
      ]
     },
     "metadata": {},
     "output_type": "display_data"
    }
   ],
   "source": [
    "#Log transform our price column\n",
    "listings_clean_df[\"log_price\"] = np.log(listings_clean_df['price'])\n",
    "\n",
    "#Plot a histogram of the price variable\n",
    "p = sns.histplot( data = listings_clean_df, x = \"log_price\", color = \"red\", kde = True, bins = 50)\n",
    "\n",
    "p.set (xlabel = \"Log Price of listing\", ylabel = \" count of listings\")\n",
    "\n",
    "plt.show()\n",
    "\n",
    "#Removing the Price variable\n",
    "\n"
   ]
  },
  {
   "cell_type": "code",
   "execution_count": 297,
   "id": "bee4e77d",
   "metadata": {},
   "outputs": [],
   "source": [
    "#Drop the price coumn from the dataset\n",
    "listings_clean_df = listings_clean_df.drop(\"price\", axis =1)"
   ]
  },
  {
   "cell_type": "markdown",
   "id": "fcc73178",
   "metadata": {},
   "source": [
    "## ML model to predict house prices"
   ]
  },
  {
   "cell_type": "markdown",
   "id": "a653068c",
   "metadata": {},
   "source": [
    "Coming back to the goal of our analysis - we want to understand what would be the optimal price for my brother's place could be if he were to list it on Airbnb for the summer.I will be looking at two simple supervised ML models in this analysis:\n",
    "\n",
    "1. **Linear regression model**:Linear Regression is a statistical modeling tool that helps us to predict values based on a linear relationship between the explanatory and response variables.\n",
    "2. **KNN model**: The K-Nearest Neighbors — or simply KNN — algorithm works by getting a given point and evaluating its “k” neighbors to find similarities. It can be used for classification or regression."
   ]
  },
  {
   "cell_type": "markdown",
   "id": "28efc0f8",
   "metadata": {},
   "source": [
    "I start off by first looking at the correlations between different variables in our dataset"
   ]
  },
  {
   "cell_type": "code",
   "execution_count": 298,
   "id": "2fd16090",
   "metadata": {
    "scrolled": true
   },
   "outputs": [
    {
     "data": {
      "text/plain": [
       "<AxesSubplot: >"
      ]
     },
     "execution_count": 298,
     "metadata": {},
     "output_type": "execute_result"
    },
    {
     "data": {
      "image/png": "[encoded data removed]",
      "text/plain": [
       "<Figure size 500x500 with 2 Axes>"
      ]
     },
     "metadata": {},
     "output_type": "display_data"
    }
   ],
   "source": [
    "#Plotting a correlation matrix heatmap\n",
    "fig, ax = plt.subplots(figsize=(5,5))\n",
    "sns.heatmap(listings_clean_df.corr(),cmap=\"PiYG\",ax=ax)"
   ]
  },
  {
   "cell_type": "markdown",
   "id": "b2f3d34e",
   "metadata": {},
   "source": [
    "*Observation:*\n",
    "1. The column `property_category_Entire_place` is very highly correlated with the `property_category_Private_room`. Same is true for `neighbourhood_group_cleansed_Brooklyn` and `neighbourhood_group_cleansed_Manhattan`. These features were from our one-hot encoding columns. I will remove one feature from the one-hot encoding columns in the input set in our Linear Regression model to avoid collinearity issues.\n",
    "2. I am interested in looking at how the target variable is correlated with the other features. It looka like `log price` is positively somewhat correlated with `accommodates`, `bedrooms`, `beds`, `bathrooms` and to the categories of Entire place and Manhattan."
   ]
  },
  {
   "cell_type": "code",
   "execution_count": 299,
   "id": "a91e838e",
   "metadata": {},
   "outputs": [],
   "source": [
    "#Dropping one column from one-hot encoding to avoid multicollinearity.\n",
    "listings_clean_df = listings_clean_df.drop(columns = [\"property_category_Private_room\", \"neighbourhood_group_cleansed_Brooklyn\"])"
   ]
  },
  {
   "cell_type": "markdown",
   "id": "26e4484c",
   "metadata": {},
   "source": [
    "Now let's start building our model below"
   ]
  },
  {
   "cell_type": "code",
   "execution_count": 300,
   "id": "4c809f6c",
   "metadata": {},
   "outputs": [],
   "source": [
    "X = listings_clean_df.drop(\"log_price\", axis =1)\n",
    "y = listings_clean_df[\"log_price\"]"
   ]
  },
  {
   "cell_type": "code",
   "execution_count": 301,
   "id": "7e65a601",
   "metadata": {},
   "outputs": [
    {
     "name": "stdout",
     "output_type": "stream",
     "text": [
      "(31069, 14)\n",
      "(7768, 14)\n"
     ]
    }
   ],
   "source": [
    "#Splitting the data into a training and testing set\n",
    "\n",
    "from sklearn.model_selection import train_test_split\n",
    "\n",
    "X_train, X_test, y_train, y_test = train_test_split(X,y, test_size=0.2, random_state =42)\n",
    "\n",
    "print(X_train.shape)\n",
    "print(X_test.shape)"
   ]
  },
  {
   "cell_type": "code",
   "execution_count": 302,
   "id": "e5bef2ba",
   "metadata": {
    "scrolled": true
   },
   "outputs": [
    {
     "data": {
      "text/html": [
       "<div>\n",
       "<style scoped>\n",
       "    .dataframe tbody tr th:only-of-type {\n",
       "        vertical-align: middle;\n",
       "    }\n",
       "\n",
       "    .dataframe tbody tr th {\n",
       "        vertical-align: top;\n",
       "    }\n",
       "\n",
       "    .dataframe thead th {\n",
       "        text-align: right;\n",
       "    }\n",
       "</style>\n",
       "<table border=\"1\" class=\"dataframe\">\n",
       "  <thead>\n",
       "    <tr style=\"text-align: right;\">\n",
       "      <th></th>\n",
       "      <th>accommodates</th>\n",
       "      <th>bedrooms</th>\n",
       "      <th>beds</th>\n",
       "      <th>number_of_reviews</th>\n",
       "      <th>host_identity_verified</th>\n",
       "      <th>host_is_superhost</th>\n",
       "      <th>bathrooms</th>\n",
       "      <th>property_category_Entire_place</th>\n",
       "      <th>property_category_Others</th>\n",
       "      <th>property_category_Shared_room</th>\n",
       "      <th>neighbourhood_group_cleansed_Bronx</th>\n",
       "      <th>neighbourhood_group_cleansed_Manhattan</th>\n",
       "      <th>neighbourhood_group_cleansed_Queens</th>\n",
       "      <th>neighbourhood_group_cleansed_Staten Island</th>\n",
       "    </tr>\n",
       "  </thead>\n",
       "  <tbody>\n",
       "    <tr>\n",
       "      <th>0</th>\n",
       "      <td>2</td>\n",
       "      <td>1.0</td>\n",
       "      <td>1.0</td>\n",
       "      <td>9</td>\n",
       "      <td>0</td>\n",
       "      <td>0</td>\n",
       "      <td>1.0</td>\n",
       "      <td>0</td>\n",
       "      <td>0</td>\n",
       "      <td>0</td>\n",
       "      <td>0</td>\n",
       "      <td>0</td>\n",
       "      <td>0</td>\n",
       "      <td>0</td>\n",
       "    </tr>\n",
       "    <tr>\n",
       "      <th>1</th>\n",
       "      <td>1</td>\n",
       "      <td>1.0</td>\n",
       "      <td>1.0</td>\n",
       "      <td>49</td>\n",
       "      <td>0</td>\n",
       "      <td>0</td>\n",
       "      <td>1.0</td>\n",
       "      <td>1</td>\n",
       "      <td>0</td>\n",
       "      <td>0</td>\n",
       "      <td>0</td>\n",
       "      <td>1</td>\n",
       "      <td>0</td>\n",
       "      <td>0</td>\n",
       "    </tr>\n",
       "    <tr>\n",
       "      <th>3</th>\n",
       "      <td>16</td>\n",
       "      <td>5.0</td>\n",
       "      <td>10.0</td>\n",
       "      <td>13</td>\n",
       "      <td>0</td>\n",
       "      <td>0</td>\n",
       "      <td>2.5</td>\n",
       "      <td>1</td>\n",
       "      <td>0</td>\n",
       "      <td>0</td>\n",
       "      <td>0</td>\n",
       "      <td>0</td>\n",
       "      <td>1</td>\n",
       "      <td>0</td>\n",
       "    </tr>\n",
       "    <tr>\n",
       "      <th>4</th>\n",
       "      <td>4</td>\n",
       "      <td>2.0</td>\n",
       "      <td>2.0</td>\n",
       "      <td>3</td>\n",
       "      <td>0</td>\n",
       "      <td>0</td>\n",
       "      <td>1.5</td>\n",
       "      <td>1</td>\n",
       "      <td>0</td>\n",
       "      <td>0</td>\n",
       "      <td>0</td>\n",
       "      <td>0</td>\n",
       "      <td>0</td>\n",
       "      <td>0</td>\n",
       "    </tr>\n",
       "    <tr>\n",
       "      <th>5</th>\n",
       "      <td>1</td>\n",
       "      <td>1.0</td>\n",
       "      <td>1.0</td>\n",
       "      <td>0</td>\n",
       "      <td>0</td>\n",
       "      <td>0</td>\n",
       "      <td>1.0</td>\n",
       "      <td>0</td>\n",
       "      <td>0</td>\n",
       "      <td>0</td>\n",
       "      <td>1</td>\n",
       "      <td>0</td>\n",
       "      <td>0</td>\n",
       "      <td>0</td>\n",
       "    </tr>\n",
       "  </tbody>\n",
       "</table>\n",
       "</div>"
      ],
      "text/plain": [
       "   accommodates  bedrooms  beds  number_of_reviews  host_identity_verified  \\\n",
       "0             2       1.0   1.0                  9                       0   \n",
       "1             1       1.0   1.0                 49                       0   \n",
       "3            16       5.0  10.0                 13                       0   \n",
       "4             4       2.0   2.0                  3                       0   \n",
       "5             1       1.0   1.0                  0                       0   \n",
       "\n",
       "   host_is_superhost  bathrooms  property_category_Entire_place  \\\n",
       "0                  0        1.0                               0   \n",
       "1                  0        1.0                               1   \n",
       "3                  0        2.5                               1   \n",
       "4                  0        1.5                               1   \n",
       "5                  0        1.0                               0   \n",
       "\n",
       "   property_category_Others  property_category_Shared_room  \\\n",
       "0                         0                              0   \n",
       "1                         0                              0   \n",
       "3                         0                              0   \n",
       "4                         0                              0   \n",
       "5                         0                              0   \n",
       "\n",
       "   neighbourhood_group_cleansed_Bronx  neighbourhood_group_cleansed_Manhattan  \\\n",
       "0                                   0                                       0   \n",
       "1                                   0                                       1   \n",
       "3                                   0                                       0   \n",
       "4                                   0                                       0   \n",
       "5                                   1                                       0   \n",
       "\n",
       "   neighbourhood_group_cleansed_Queens  \\\n",
       "0                                    0   \n",
       "1                                    0   \n",
       "3                                    1   \n",
       "4                                    0   \n",
       "5                                    0   \n",
       "\n",
       "   neighbourhood_group_cleansed_Staten Island  \n",
       "0                                           0  \n",
       "1                                           0  \n",
       "3                                           0  \n",
       "4                                           0  \n",
       "5                                           0  "
      ]
     },
     "execution_count": 302,
     "metadata": {},
     "output_type": "execute_result"
    }
   ],
   "source": [
    "X.head()"
   ]
  },
  {
   "cell_type": "markdown",
   "id": "f7be8815",
   "metadata": {},
   "source": [
    "We will now normalise the input columns. We do this after we split the data into training and testing data because data standardisation of the explanatory variables is a technique used to center and normalise the data by subtracting the mean and dividing by the variance. If we take the mean and variance of the whole dataset we'll be introducing testing data information into the training explanatory variables (i.e. the mean and variance)."
   ]
  },
  {
   "cell_type": "code",
   "execution_count": 303,
   "id": "2c81ce22",
   "metadata": {},
   "outputs": [],
   "source": [
    "from sklearn.preprocessing import StandardScaler\n",
    "scaler = StandardScaler().fit(X_train)\n",
    "X_train_normalised = scaler.transform(X_train)\n",
    "X_train_normalised = pd.DataFrame(X_train_normalised)# to change the numpy array data type to a pandas dataframe "
   ]
  },
  {
   "cell_type": "markdown",
   "id": "4487985f",
   "metadata": {},
   "source": [
    "### Linear Regression model"
   ]
  },
  {
   "cell_type": "code",
   "execution_count": 304,
   "id": "b48e7265",
   "metadata": {},
   "outputs": [
    {
     "data": {
      "text/html": [
       "<style>#sk-container-id-7 {color: black;background-color: white;}#sk-container-id-7 pre{padding: 0;}#sk-container-id-7 div.sk-toggleable {background-color: white;}#sk-container-id-7 label.sk-toggleable__label {cursor: pointer;display: block;width: 100%;margin-bottom: 0;padding: 0.3em;box-sizing: border-box;text-align: center;}#sk-container-id-7 label.sk-toggleable__label-arrow:before {content: \"▸\";float: left;margin-right: 0.25em;color: #696969;}#sk-container-id-7 label.sk-toggleable__label-arrow:hover:before {color: black;}#sk-container-id-7 div.sk-estimator:hover label.sk-toggleable__label-arrow:before {color: black;}#sk-container-id-7 div.sk-toggleable__content {max-height: 0;max-width: 0;overflow: hidden;text-align: left;background-color: #f0f8ff;}#sk-container-id-7 div.sk-toggleable__content pre {margin: 0.2em;color: black;border-radius: 0.25em;background-color: #f0f8ff;}#sk-container-id-7 input.sk-toggleable__control:checked~div.sk-toggleable__content {max-height: 200px;max-width: 100%;overflow: auto;}#sk-container-id-7 input.sk-toggleable__control:checked~label.sk-toggleable__label-arrow:before {content: \"▾\";}#sk-container-id-7 div.sk-estimator input.sk-toggleable__control:checked~label.sk-toggleable__label {background-color: #d4ebff;}#sk-container-id-7 div.sk-label input.sk-toggleable__control:checked~label.sk-toggleable__label {background-color: #d4ebff;}#sk-container-id-7 input.sk-hidden--visually {border: 0;clip: rect(1px 1px 1px 1px);clip: rect(1px, 1px, 1px, 1px);height: 1px;margin: -1px;overflow: hidden;padding: 0;position: absolute;width: 1px;}#sk-container-id-7 div.sk-estimator {font-family: monospace;background-color: #f0f8ff;border: 1px dotted black;border-radius: 0.25em;box-sizing: border-box;margin-bottom: 0.5em;}#sk-container-id-7 div.sk-estimator:hover {background-color: #d4ebff;}#sk-container-id-7 div.sk-parallel-item::after {content: \"\";width: 100%;border-bottom: 1px solid gray;flex-grow: 1;}#sk-container-id-7 div.sk-label:hover label.sk-toggleable__label {background-color: #d4ebff;}#sk-container-id-7 div.sk-serial::before {content: \"\";position: absolute;border-left: 1px solid gray;box-sizing: border-box;top: 0;bottom: 0;left: 50%;z-index: 0;}#sk-container-id-7 div.sk-serial {display: flex;flex-direction: column;align-items: center;background-color: white;padding-right: 0.2em;padding-left: 0.2em;position: relative;}#sk-container-id-7 div.sk-item {position: relative;z-index: 1;}#sk-container-id-7 div.sk-parallel {display: flex;align-items: stretch;justify-content: center;background-color: white;position: relative;}#sk-container-id-7 div.sk-item::before, #sk-container-id-7 div.sk-parallel-item::before {content: \"\";position: absolute;border-left: 1px solid gray;box-sizing: border-box;top: 0;bottom: 0;left: 50%;z-index: -1;}#sk-container-id-7 div.sk-parallel-item {display: flex;flex-direction: column;z-index: 1;position: relative;background-color: white;}#sk-container-id-7 div.sk-parallel-item:first-child::after {align-self: flex-end;width: 50%;}#sk-container-id-7 div.sk-parallel-item:last-child::after {align-self: flex-start;width: 50%;}#sk-container-id-7 div.sk-parallel-item:only-child::after {width: 0;}#sk-container-id-7 div.sk-dashed-wrapped {border: 1px dashed gray;margin: 0 0.4em 0.5em 0.4em;box-sizing: border-box;padding-bottom: 0.4em;background-color: white;}#sk-container-id-7 div.sk-label label {font-family: monospace;font-weight: bold;display: inline-block;line-height: 1.2em;}#sk-container-id-7 div.sk-label-container {text-align: center;}#sk-container-id-7 div.sk-container {/* jupyter's `normalize.less` sets `[hidden] { display: none; }` but bootstrap.min.css set `[hidden] { display: none !important; }` so we also need the `!important` here to be able to override the default hidden behavior on the sphinx rendered scikit-learn.org. See: https://github.com/scikit-learn/scikit-learn/issues/21755 */display: inline-block !important;position: relative;}#sk-container-id-7 div.sk-text-repr-fallback {display: none;}</style><div id=\"sk-container-id-7\" class=\"sk-top-container\"><div class=\"sk-text-repr-fallback\"><pre>LinearRegression()</pre><b>In a Jupyter environment, please rerun this cell to show the HTML representation or trust the notebook. <br />On GitHub, the HTML representation is unable to render, please try loading this page with nbviewer.org.</b></div><div class=\"sk-container\" hidden><div class=\"sk-item\"><div class=\"sk-estimator sk-toggleable\"><input class=\"sk-toggleable__control sk-hidden--visually\" id=\"sk-estimator-id-7\" type=\"checkbox\" checked><label for=\"sk-estimator-id-7\" class=\"sk-toggleable__label sk-toggleable__label-arrow\">LinearRegression</label><div class=\"sk-toggleable__content\"><pre>LinearRegression()</pre></div></div></div></div></div>"
      ],
      "text/plain": [
       "LinearRegression()"
      ]
     },
     "execution_count": 304,
     "metadata": {},
     "output_type": "execute_result"
    }
   ],
   "source": [
    "from sklearn.linear_model import LinearRegression\n",
    "lr = LinearRegression()\n",
    "lr.fit(X_train_normalised, y_train)"
   ]
  },
  {
   "cell_type": "code",
   "execution_count": 311,
   "id": "f5816d1e",
   "metadata": {},
   "outputs": [
    {
     "name": "stdout",
     "output_type": "stream",
     "text": [
      "The intercept is  4.919709064876166\n",
      "The coefficients are \n",
      " 0     2.503271e-01\n",
      "1     6.448021e-02\n",
      "2    -2.603507e-02\n",
      "3    -4.469842e-03\n",
      "4    -1.387779e-17\n",
      "5     7.632783e-17\n",
      "6     7.325243e-02\n",
      "7     2.462900e-01\n",
      "8     2.905267e-02\n",
      "9    -2.891505e-02\n",
      "10   -3.054985e-02\n",
      "11    2.045998e-01\n",
      "12   -3.707745e-02\n",
      "13   -2.265898e-02\n",
      "dtype: float64\n"
     ]
    }
   ],
   "source": [
    "print(\"The intercept is \", lr.intercept_)\n",
    "print(\"The coefficients are\", \"\\n\",\n",
    "      pd.Series(lr.coef_, index = X_train_normalised.columns ))"
   ]
  },
  {
   "cell_type": "markdown",
   "id": "c30d7ab8",
   "metadata": {},
   "source": [
    "To understand if we have overfit the data with our model, we will also do a Ridge Regression which is a regularisation technique.\n",
    "\n",
    "The main purpose in Ridge Regression is the effect of shrinking the coefficients for those input variables that do not contribute much to the prediction task."
   ]
  },
  {
   "cell_type": "code",
   "execution_count": 306,
   "id": "85363309",
   "metadata": {},
   "outputs": [],
   "source": [
    "from sklearn.linear_model import Ridge\n",
    "from sklearn.linear_model import RidgeCV"
   ]
  },
  {
   "cell_type": "code",
   "execution_count": 323,
   "id": "ab81c7e2",
   "metadata": {},
   "outputs": [
    {
     "data": {
      "text/html": [
       "<style>#sk-container-id-14 {color: black;background-color: white;}#sk-container-id-14 pre{padding: 0;}#sk-container-id-14 div.sk-toggleable {background-color: white;}#sk-container-id-14 label.sk-toggleable__label {cursor: pointer;display: block;width: 100%;margin-bottom: 0;padding: 0.3em;box-sizing: border-box;text-align: center;}#sk-container-id-14 label.sk-toggleable__label-arrow:before {content: \"▸\";float: left;margin-right: 0.25em;color: #696969;}#sk-container-id-14 label.sk-toggleable__label-arrow:hover:before {color: black;}#sk-container-id-14 div.sk-estimator:hover label.sk-toggleable__label-arrow:before {color: black;}#sk-container-id-14 div.sk-toggleable__content {max-height: 0;max-width: 0;overflow: hidden;text-align: left;background-color: #f0f8ff;}#sk-container-id-14 div.sk-toggleable__content pre {margin: 0.2em;color: black;border-radius: 0.25em;background-color: #f0f8ff;}#sk-container-id-14 input.sk-toggleable__control:checked~div.sk-toggleable__content {max-height: 200px;max-width: 100%;overflow: auto;}#sk-container-id-14 input.sk-toggleable__control:checked~label.sk-toggleable__label-arrow:before {content: \"▾\";}#sk-container-id-14 div.sk-estimator input.sk-toggleable__control:checked~label.sk-toggleable__label {background-color: #d4ebff;}#sk-container-id-14 div.sk-label input.sk-toggleable__control:checked~label.sk-toggleable__label {background-color: #d4ebff;}#sk-container-id-14 input.sk-hidden--visually {border: 0;clip: rect(1px 1px 1px 1px);clip: rect(1px, 1px, 1px, 1px);height: 1px;margin: -1px;overflow: hidden;padding: 0;position: absolute;width: 1px;}#sk-container-id-14 div.sk-estimator {font-family: monospace;background-color: #f0f8ff;border: 1px dotted black;border-radius: 0.25em;box-sizing: border-box;margin-bottom: 0.5em;}#sk-container-id-14 div.sk-estimator:hover {background-color: #d4ebff;}#sk-container-id-14 div.sk-parallel-item::after {content: \"\";width: 100%;border-bottom: 1px solid gray;flex-grow: 1;}#sk-container-id-14 div.sk-label:hover label.sk-toggleable__label {background-color: #d4ebff;}#sk-container-id-14 div.sk-serial::before {content: \"\";position: absolute;border-left: 1px solid gray;box-sizing: border-box;top: 0;bottom: 0;left: 50%;z-index: 0;}#sk-container-id-14 div.sk-serial {display: flex;flex-direction: column;align-items: center;background-color: white;padding-right: 0.2em;padding-left: 0.2em;position: relative;}#sk-container-id-14 div.sk-item {position: relative;z-index: 1;}#sk-container-id-14 div.sk-parallel {display: flex;align-items: stretch;justify-content: center;background-color: white;position: relative;}#sk-container-id-14 div.sk-item::before, #sk-container-id-14 div.sk-parallel-item::before {content: \"\";position: absolute;border-left: 1px solid gray;box-sizing: border-box;top: 0;bottom: 0;left: 50%;z-index: -1;}#sk-container-id-14 div.sk-parallel-item {display: flex;flex-direction: column;z-index: 1;position: relative;background-color: white;}#sk-container-id-14 div.sk-parallel-item:first-child::after {align-self: flex-end;width: 50%;}#sk-container-id-14 div.sk-parallel-item:last-child::after {align-self: flex-start;width: 50%;}#sk-container-id-14 div.sk-parallel-item:only-child::after {width: 0;}#sk-container-id-14 div.sk-dashed-wrapped {border: 1px dashed gray;margin: 0 0.4em 0.5em 0.4em;box-sizing: border-box;padding-bottom: 0.4em;background-color: white;}#sk-container-id-14 div.sk-label label {font-family: monospace;font-weight: bold;display: inline-block;line-height: 1.2em;}#sk-container-id-14 div.sk-label-container {text-align: center;}#sk-container-id-14 div.sk-container {/* jupyter's `normalize.less` sets `[hidden] { display: none; }` but bootstrap.min.css set `[hidden] { display: none !important; }` so we also need the `!important` here to be able to override the default hidden behavior on the sphinx rendered scikit-learn.org. See: https://github.com/scikit-learn/scikit-learn/issues/21755 */display: inline-block !important;position: relative;}#sk-container-id-14 div.sk-text-repr-fallback {display: none;}</style><div id=\"sk-container-id-14\" class=\"sk-top-container\"><div class=\"sk-text-repr-fallback\"><pre>Ridge(alpha=1)</pre><b>In a Jupyter environment, please rerun this cell to show the HTML representation or trust the notebook. <br />On GitHub, the HTML representation is unable to render, please try loading this page with nbviewer.org.</b></div><div class=\"sk-container\" hidden><div class=\"sk-item\"><div class=\"sk-estimator sk-toggleable\"><input class=\"sk-toggleable__control sk-hidden--visually\" id=\"sk-estimator-id-14\" type=\"checkbox\" checked><label for=\"sk-estimator-id-14\" class=\"sk-toggleable__label sk-toggleable__label-arrow\">Ridge</label><div class=\"sk-toggleable__content\"><pre>Ridge(alpha=1)</pre></div></div></div></div></div>"
      ],
      "text/plain": [
       "Ridge(alpha=1)"
      ]
     },
     "execution_count": 323,
     "metadata": {},
     "output_type": "execute_result"
    }
   ],
   "source": [
    "Ridge_model = Ridge(alpha = 1)#default value is 1\n",
    "Ridge_model.fit(X_train_normalised,y_train)"
   ]
  },
  {
   "cell_type": "markdown",
   "id": "989dd5a6",
   "metadata": {},
   "source": [
    "The coefficients in Ridge regression may vary according to the determined alpha parameter."
   ]
  },
  {
   "cell_type": "code",
   "execution_count": 324,
   "id": "be56ec37",
   "metadata": {},
   "outputs": [
    {
     "name": "stdout",
     "output_type": "stream",
     "text": [
      "The intercept is  4.919709064876166\n",
      "The coefficients are \n",
      " 0     0.250308\n",
      "1     0.064483\n",
      "2    -0.026018\n",
      "3    -0.004470\n",
      "4     0.000000\n",
      "5     0.000000\n",
      "6     0.073250\n",
      "7     0.246285\n",
      "8     0.029051\n",
      "9    -0.028916\n",
      "10   -0.030550\n",
      "11    0.204593\n",
      "12   -0.037080\n",
      "13   -0.022659\n",
      "dtype: float64\n"
     ]
    }
   ],
   "source": [
    "print(\"The intercept is \", Ridge_model.intercept_)\n",
    "print(\"The coefficients are\", \"\\n\",\n",
    "        pd.Series(Ridge_model.coef_, index = X_train_normalised.columns ))"
   ]
  },
  {
   "cell_type": "markdown",
   "id": "8c8d2a35",
   "metadata": {},
   "source": [
    "### K-Nearest Neighbours model"
   ]
  },
  {
   "cell_type": "code",
   "execution_count": 325,
   "id": "f1584afd",
   "metadata": {},
   "outputs": [
    {
     "data": {
      "text/html": [
       "<style>#sk-container-id-15 {color: black;background-color: white;}#sk-container-id-15 pre{padding: 0;}#sk-container-id-15 div.sk-toggleable {background-color: white;}#sk-container-id-15 label.sk-toggleable__label {cursor: pointer;display: block;width: 100%;margin-bottom: 0;padding: 0.3em;box-sizing: border-box;text-align: center;}#sk-container-id-15 label.sk-toggleable__label-arrow:before {content: \"▸\";float: left;margin-right: 0.25em;color: #696969;}#sk-container-id-15 label.sk-toggleable__label-arrow:hover:before {color: black;}#sk-container-id-15 div.sk-estimator:hover label.sk-toggleable__label-arrow:before {color: black;}#sk-container-id-15 div.sk-toggleable__content {max-height: 0;max-width: 0;overflow: hidden;text-align: left;background-color: #f0f8ff;}#sk-container-id-15 div.sk-toggleable__content pre {margin: 0.2em;color: black;border-radius: 0.25em;background-color: #f0f8ff;}#sk-container-id-15 input.sk-toggleable__control:checked~div.sk-toggleable__content {max-height: 200px;max-width: 100%;overflow: auto;}#sk-container-id-15 input.sk-toggleable__control:checked~label.sk-toggleable__label-arrow:before {content: \"▾\";}#sk-container-id-15 div.sk-estimator input.sk-toggleable__control:checked~label.sk-toggleable__label {background-color: #d4ebff;}#sk-container-id-15 div.sk-label input.sk-toggleable__control:checked~label.sk-toggleable__label {background-color: #d4ebff;}#sk-container-id-15 input.sk-hidden--visually {border: 0;clip: rect(1px 1px 1px 1px);clip: rect(1px, 1px, 1px, 1px);height: 1px;margin: -1px;overflow: hidden;padding: 0;position: absolute;width: 1px;}#sk-container-id-15 div.sk-estimator {font-family: monospace;background-color: #f0f8ff;border: 1px dotted black;border-radius: 0.25em;box-sizing: border-box;margin-bottom: 0.5em;}#sk-container-id-15 div.sk-estimator:hover {background-color: #d4ebff;}#sk-container-id-15 div.sk-parallel-item::after {content: \"\";width: 100%;border-bottom: 1px solid gray;flex-grow: 1;}#sk-container-id-15 div.sk-label:hover label.sk-toggleable__label {background-color: #d4ebff;}#sk-container-id-15 div.sk-serial::before {content: \"\";position: absolute;border-left: 1px solid gray;box-sizing: border-box;top: 0;bottom: 0;left: 50%;z-index: 0;}#sk-container-id-15 div.sk-serial {display: flex;flex-direction: column;align-items: center;background-color: white;padding-right: 0.2em;padding-left: 0.2em;position: relative;}#sk-container-id-15 div.sk-item {position: relative;z-index: 1;}#sk-container-id-15 div.sk-parallel {display: flex;align-items: stretch;justify-content: center;background-color: white;position: relative;}#sk-container-id-15 div.sk-item::before, #sk-container-id-15 div.sk-parallel-item::before {content: \"\";position: absolute;border-left: 1px solid gray;box-sizing: border-box;top: 0;bottom: 0;left: 50%;z-index: -1;}#sk-container-id-15 div.sk-parallel-item {display: flex;flex-direction: column;z-index: 1;position: relative;background-color: white;}#sk-container-id-15 div.sk-parallel-item:first-child::after {align-self: flex-end;width: 50%;}#sk-container-id-15 div.sk-parallel-item:last-child::after {align-self: flex-start;width: 50%;}#sk-container-id-15 div.sk-parallel-item:only-child::after {width: 0;}#sk-container-id-15 div.sk-dashed-wrapped {border: 1px dashed gray;margin: 0 0.4em 0.5em 0.4em;box-sizing: border-box;padding-bottom: 0.4em;background-color: white;}#sk-container-id-15 div.sk-label label {font-family: monospace;font-weight: bold;display: inline-block;line-height: 1.2em;}#sk-container-id-15 div.sk-label-container {text-align: center;}#sk-container-id-15 div.sk-container {/* jupyter's `normalize.less` sets `[hidden] { display: none; }` but bootstrap.min.css set `[hidden] { display: none !important; }` so we also need the `!important` here to be able to override the default hidden behavior on the sphinx rendered scikit-learn.org. See: https://github.com/scikit-learn/scikit-learn/issues/21755 */display: inline-block !important;position: relative;}#sk-container-id-15 div.sk-text-repr-fallback {display: none;}</style><div id=\"sk-container-id-15\" class=\"sk-top-container\"><div class=\"sk-text-repr-fallback\"><pre>KNeighborsRegressor()</pre><b>In a Jupyter environment, please rerun this cell to show the HTML representation or trust the notebook. <br />On GitHub, the HTML representation is unable to render, please try loading this page with nbviewer.org.</b></div><div class=\"sk-container\" hidden><div class=\"sk-item\"><div class=\"sk-estimator sk-toggleable\"><input class=\"sk-toggleable__control sk-hidden--visually\" id=\"sk-estimator-id-15\" type=\"checkbox\" checked><label for=\"sk-estimator-id-15\" class=\"sk-toggleable__label sk-toggleable__label-arrow\">KNeighborsRegressor</label><div class=\"sk-toggleable__content\"><pre>KNeighborsRegressor()</pre></div></div></div></div></div>"
      ],
      "text/plain": [
       "KNeighborsRegressor()"
      ]
     },
     "execution_count": 325,
     "metadata": {},
     "output_type": "execute_result"
    }
   ],
   "source": [
    "from sklearn.neighbors import KNeighborsRegressor\n",
    "knn = KNeighborsRegressor()#by default k=5\n",
    "knn.fit(X_train_normalised, y_train)"
   ]
  },
  {
   "cell_type": "markdown",
   "id": "dec06c63",
   "metadata": {},
   "source": [
    "## Evaluating the models"
   ]
  },
  {
   "cell_type": "code",
   "execution_count": 326,
   "id": "ba4f2efd",
   "metadata": {},
   "outputs": [
    {
     "name": "stdout",
     "output_type": "stream",
     "text": [
      "Linear Regression   0.6761253854973208\n",
      "KNN                 0.5672423321115447\n"
     ]
    }
   ],
   "source": [
    "#Using Root mean squared error to evaluate how or models are performing\n",
    "from sklearn.metrics import mean_squared_error\n",
    "RMSE = {}\n",
    "RMSE['Linear Regression'] = mean_squared_error(y_test, Ridge_model.predict(X_test)) ** 1/2 # to get the root of the mean squared error\n",
    "RMSE['KNN'] = mean_squared_error(y_test, knn.predict(X_test)) ** 1/2\n",
    "\n",
    "\n",
    "for key, value in RMSE.items():\n",
    "    print(f'{key:20}{value}')"
   ]
  },
  {
   "cell_type": "code",
   "execution_count": 330,
   "id": "4d350ed4",
   "metadata": {},
   "outputs": [
    {
     "data": {
      "text/plain": [
       "{Ridge(alpha=1): -0.543, KNeighborsRegressor(): -0.576}"
      ]
     },
     "execution_count": 330,
     "metadata": {},
     "output_type": "execute_result"
    }
   ],
   "source": [
    "#Cross-validation of data\n",
    "from sklearn.model_selection import cross_val_score\n",
    "\n",
    "num_folds = 5\n",
    "random_seed = 42\n",
    "\n",
    "from sklearn.model_selection import KFold\n",
    "kfold = KFold(\n",
    "    n_splits=num_folds,\n",
    "    shuffle=True,\n",
    "    random_state=random_seed,\n",
    ")\n",
    "\n",
    "root_mean_squared_error_cvs={}\n",
    "models = [Ridge_model, knn]\n",
    "\n",
    "for i in models:\n",
    "    score = cross_val_score(i, X, y, cv=kfold, scoring=\"neg_root_mean_squared_error\")\n",
    "    root_mean_squared_error_cvs[i] = round(score.mean(),3)\n",
    "\n",
    "\n",
    "root_mean_squared_error_cvs"
   ]
  },
  {
   "cell_type": "markdown",
   "id": "31d077c5",
   "metadata": {},
   "source": [
    "Comparing both the models, we see that our Ridge regression model has a marginally lower Root Mean Squared Error (RMSE) compared to our KNN model. Broadly, they are both performing good."
   ]
  },
  {
   "cell_type": "markdown",
   "id": "f2d28081",
   "metadata": {},
   "source": [
    "We can continue working on this. As **next steps**, here are a few things you can to do improve accuracy:\n",
    "\n",
    "1. Try substituting in different values for k. We can try to understand what the optimal value of k should be through such an error plot or accuracy plot to find the most favorable k value.\n",
    "2. KNN model and Linear regression model is affected by outliers. In the above we used two methods to deal with this - using a Ridge regression and log transforming our target variWe can try a version of the model where outliers are removed to see how the model performs.\n",
    "3. Go back to the original data set and convert some of the columns we removed to numeric and experiment with adding different combinations of features."
   ]
  }
 ],
 "metadata": {
  "kernelspec": {
   "display_name": "Python 3 (ipykernel)",
   "language": "python",
   "name": "python3"
  },
  "language_info": {
   "codemirror_mode": {
    "name": "ipython",
    "version": 3
   },
   "file_extension": ".py",
   "mimetype": "text/x-python",
   "name": "python",
   "nbconvert_exporter": "python",
   "pygments_lexer": "ipython3",
   "version": "3.9.12"
  }
 },
 "nbformat": 4,
 "nbformat_minor": 5
}
